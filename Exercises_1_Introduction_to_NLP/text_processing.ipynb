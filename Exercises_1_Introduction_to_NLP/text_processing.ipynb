{
 "cells": [
  {
   "cell_type": "markdown",
   "metadata": {},
   "source": [
    "# Text Processing\n",
    "\n",
    "## Capturing Text Data\n",
    "\n",
    "### Plain Text"
   ]
  },
  {
   "cell_type": "code",
   "execution_count": 1,
   "metadata": {},
   "outputs": [
    {
     "name": "stdout",
     "output_type": "stream",
     "text": [
      "Hieroglyphic writing dates from c. 3000 BC, and is composed of hundreds of symbols. A hieroglyph can represent a word, a sound, or a silent determinative; and the same symbol can serve different purposes in different contexts. Hieroglyphs were a formal script, used on stone monuments and in tombs, that could be as detailed as individual works of art.\n",
      "\n"
     ]
    }
   ],
   "source": [
    "import os\n",
    "\n",
    "# Read in a plain text file\n",
    "with open(os.path.join(\"data\", \"hieroglyph.txt\"), \"r\") as f:\n",
    "    text = f.read()\n",
    "    print(text)"
   ]
  },
  {
   "cell_type": "markdown",
   "metadata": {},
   "source": [
    "### Tabular Data"
   ]
  },
  {
   "cell_type": "code",
   "execution_count": 2,
   "metadata": {
    "scrolled": true
   },
   "outputs": [
    {
     "data": {
      "text/html": [
       "<div>\n",
       "<style scoped>\n",
       "    .dataframe tbody tr th:only-of-type {\n",
       "        vertical-align: middle;\n",
       "    }\n",
       "\n",
       "    .dataframe tbody tr th {\n",
       "        vertical-align: top;\n",
       "    }\n",
       "\n",
       "    .dataframe thead th {\n",
       "        text-align: right;\n",
       "    }\n",
       "</style>\n",
       "<table border=\"1\" class=\"dataframe\">\n",
       "  <thead>\n",
       "    <tr style=\"text-align: right;\">\n",
       "      <th></th>\n",
       "      <th>publisher</th>\n",
       "      <th>title</th>\n",
       "    </tr>\n",
       "  </thead>\n",
       "  <tbody>\n",
       "    <tr>\n",
       "      <th>0</th>\n",
       "      <td>Livemint</td>\n",
       "      <td>fed's charles plosser sees high bar for change...</td>\n",
       "    </tr>\n",
       "    <tr>\n",
       "      <th>1</th>\n",
       "      <td>IFA Magazine</td>\n",
       "      <td>us open: stocks fall after fed official hints ...</td>\n",
       "    </tr>\n",
       "    <tr>\n",
       "      <th>2</th>\n",
       "      <td>IFA Magazine</td>\n",
       "      <td>fed risks falling 'behind the curve', charles ...</td>\n",
       "    </tr>\n",
       "    <tr>\n",
       "      <th>3</th>\n",
       "      <td>Moneynews</td>\n",
       "      <td>fed's plosser: nasty weather has curbed job gr...</td>\n",
       "    </tr>\n",
       "    <tr>\n",
       "      <th>4</th>\n",
       "      <td>NASDAQ</td>\n",
       "      <td>plosser: fed may have to accelerate tapering pace</td>\n",
       "    </tr>\n",
       "  </tbody>\n",
       "</table>\n",
       "</div>"
      ],
      "text/plain": [
       "      publisher                                              title\n",
       "0      Livemint  fed's charles plosser sees high bar for change...\n",
       "1  IFA Magazine  us open: stocks fall after fed official hints ...\n",
       "2  IFA Magazine  fed risks falling 'behind the curve', charles ...\n",
       "3     Moneynews  fed's plosser: nasty weather has curbed job gr...\n",
       "4        NASDAQ  plosser: fed may have to accelerate tapering pace"
      ]
     },
     "execution_count": 2,
     "metadata": {},
     "output_type": "execute_result"
    }
   ],
   "source": [
    "import pandas as pd\n",
    "\n",
    "# Extract text column from a dataframe\n",
    "df = pd.read_csv(os.path.join(\"data\", \"news.csv\"))\n",
    "df.head()[['publisher', 'title']]\n",
    "\n",
    "# Convert text column to lowercase\n",
    "df['title'] = df['title'].str.lower()\n",
    "df.head()[['publisher', 'title']]"
   ]
  },
  {
   "cell_type": "markdown",
   "metadata": {},
   "source": [
    "### Online Resource"
   ]
  },
  {
   "cell_type": "code",
   "execution_count": 3,
   "metadata": {
    "scrolled": true
   },
   "outputs": [
    {
     "name": "stdout",
     "output_type": "stream",
     "text": [
      "{\n",
      "    \"success\": {\n",
      "        \"total\": 1\n",
      "    },\n",
      "    \"contents\": {\n",
      "        \"quotes\": [\n",
      "            {\n",
      "                \"quote\": \"Our words are buttressed by our deeds, and our deeds are inspired by our convictions.\",\n",
      "                \"length\": \"85\",\n",
      "                \"author\": \"Theodore Hesburgh\",\n",
      "                \"tags\": [\n",
      "                    \"conviction\",\n",
      "                    \"deed\",\n",
      "                    \"inspire\"\n",
      "                ],\n",
      "                \"category\": \"inspire\",\n",
      "                \"language\": \"en\",\n",
      "                \"date\": \"2020-05-01\",\n",
      "                \"permalink\": \"https://theysaidso.com/quote/theodore-hesburgh-our-words-are-buttressed-by-our-deeds-and-our-deeds-are-inspir\",\n",
      "                \"id\": \"abOiOZ1mvAntbk4JjR2lvweF\",\n",
      "                \"background\": \"https://theysaidso.com/img/qod/qod-inspire.jpg\",\n",
      "                \"title\": \"Inspiring Quote of the day\"\n",
      "            }\n",
      "        ]\n",
      "    },\n",
      "    \"baseurl\": \"https://theysaidso.com\",\n",
      "    \"copyright\": {\n",
      "        \"year\": 2022,\n",
      "        \"url\": \"https://theysaidso.com\"\n",
      "    }\n",
      "}\n",
      "Our words are buttressed by our deeds, and our deeds are inspired by our convictions. \n",
      "-- Theodore Hesburgh\n"
     ]
    }
   ],
   "source": [
    "import requests\n",
    "import json\n",
    "\n",
    "# Fetch data from a REST API\n",
    "r = requests.get(\n",
    "    \"https://quotes.rest/qod.json\")\n",
    "res = r.json()\n",
    "print(json.dumps(res, indent=4))\n",
    "\n",
    "# Extract relevant object and field\n",
    "q = res[\"contents\"][\"quotes\"][0]\n",
    "print(q[\"quote\"], \"\\n--\", q[\"author\"])"
   ]
  },
  {
   "cell_type": "markdown",
   "metadata": {},
   "source": [
    "## Cleaning"
   ]
  },
  {
   "cell_type": "code",
   "execution_count": 4,
   "metadata": {
    "scrolled": true
   },
   "outputs": [
    {
     "name": "stdout",
     "output_type": "stream",
     "text": [
      "<html lang=\"en\" op=\"news\"><head><meta name=\"referrer\" content=\"origin\"><meta name=\"viewport\" content=\"width=device-width, initial-scale=1.0\"><link rel=\"stylesheet\" type=\"text/css\" href=\"news.css?czQipXoiQovJZd6nvhI1\">\n",
      "        <link rel=\"shortcut icon\" href=\"favicon.ico\">\n",
      "          <link rel=\"alternate\" type=\"application/rss+xml\" title=\"RSS\" href=\"rss\">\n",
      "        <title>Hacker News</title></head><body><center><table id=\"hnmain\" border=\"0\" cellpadding=\"0\" cellspacing=\"0\" width=\"85%\" bgcolor=\"#f6f6ef\">\n",
      "        <tr><td bgcolor=\"#ff6600\"><table border=\"0\" cellpadding=\"0\" cellspacing=\"0\" width=\"100%\" style=\"padding:2px\"><tr><td style=\"width:18px;padding-right:4px\"><a href=\"https://news.ycombinator.com\"><img src=\"y18.gif\" width=\"18\" height=\"18\" style=\"border:1px white solid;\"></a></td>\n",
      "                  <td style=\"line-height:12pt; height:10px;\"><span class=\"pagetop\"><b class=\"hnname\"><a href=\"news\">Hacker News</a></b>\n",
      "              <a href=\"newest\">new</a> | <a href=\"front\">past</a> | <a href=\"newcomments\">comments</a> | <a href=\"ask\">ask</a> | <a href=\"show\">show</a> | <a href=\"jobs\">jobs</a> | <a href=\"submit\">submit</a>            </span></td><td style=\"text-align:right;padding-right:4px;\"><span class=\"pagetop\">\n",
      "                              <a href=\"login?goto=news\">login</a>\n",
      "                          </span></td>\n",
      "              </tr></table></td></tr>\n",
      "<tr id=\"pagespace\" title=\"\" style=\"height:10px\"></tr><tr><td><table border=\"0\" cellpadding=\"0\" cellspacing=\"0\" class=\"itemlist\">\n",
      "              <tr class='athing' id='23038637'>\n",
      "      <td align=\"right\" valign=\"top\" class=\"title\"><span class=\"rank\">1.</span></td>      <td valign=\"top\" class=\"votelinks\"><center><a id='up_23038637' href='vote?id=23038637&amp;how=up&amp;goto=news'><div class='votearrow' title='upvote'></div></a></center></td><td class=\"title\"><a href=\"https://www.icann.org/news/blog/icann-board-withholds-consent-for-a-change-of-control-of-the-public-interest-registry-pir\" class=\"storylink\">ICANN board withholds consent for a change of control of the .org registry</a><span class=\"sitebit comhead\"> (<a href=\"from?site=icann.org\"><span class=\"sitestr\">icann.org</span></a>)</span></td></tr><tr><td colspan=\"2\"></td><td class=\"subtext\">\n",
      "        <span class=\"score\" id=\"score_23038637\">659 points</span> by <a href=\"user?id=cjbprime\" class=\"hnuser\">cjbprime</a> <span class=\"age\"><a href=\"item?id=23038637\">6 hours ago</a></span> <span id=\"unv_23038637\"></span> | <a href=\"hide?id=23038637&amp;goto=news\">hide</a> | <a href=\"item?id=23038637\">98&nbsp;comments</a>              </td></tr>\n",
      "      <tr class=\"spacer\" style=\"height:5px\"></tr>\n",
      "                <tr class='athing' id='23036893'>\n",
      "      <td align=\"right\" valign=\"top\" class=\"title\"><span class=\"rank\">2.</span></td>      <td valign=\"top\" class=\"votelinks\"><center><a id='up_23036893' href='vote?id=23036893&amp;how=up&amp;goto=news'><div class='votearrow' title='upvote'></div></a></center></td><td class=\"title\"><a href=\"https://medium.com/@peternorvig/ive-consed-every-pair-54ef5d9d93b6\" class=\"storylink\">I’ve Consed Every Pair</a><span class=\"sitebit comhead\"> (<a href=\"from?site=medium.com\"><span class=\"sitestr\">medium.com</span></a>)</span></td></tr><tr><td colspan=\"2\"></td><td class=\"subtext\">\n",
      "        <span class=\"score\" id=\"score_23036893\">349 points</span> by <a href=\"user?id=DonHopkins\" class=\"hnuser\">DonHopkins</a> <span class=\"age\"><a href=\"item?id=23036893\">11 hours ago</a></span> <span id=\"unv_23036893\"></span> | <a href=\"hide?id=23036893&amp;goto=news\">hide</a> | <a href=\"item?id=23036893\">127&nbsp;comments</a>              </td></tr>\n",
      "      <tr class=\"spacer\" style=\"height:5px\"></tr>\n",
      "                <tr class='athing' id='23040030'>\n",
      "      <td align=\"right\" valign=\"top\" class=\"title\"><span class=\"rank\">3.</span></td>      <td valign=\"top\" class=\"votelinks\"><center><a id='up_23040030' href='vote?id=23040030&amp;how=up&amp;goto=news'><div class='votearrow' title='upvote'></div></a></center></td><td class=\"title\"><a href=\"https://blog.quickbird.uk/domesticating-kubernetes-d49c178ebc41\" class=\"storylink\">Domesticating Kubernetes</a><span class=\"sitebit comhead\"> (<a href=\"from?site=blog.quickbird.uk\"><span class=\"sitestr\">blog.quickbird.uk</span></a>)</span></td></tr><tr><td colspan=\"2\"></td><td class=\"subtext\">\n",
      "        <span class=\"score\" id=\"score_23040030\">36 points</span> by <a href=\"user?id=ClumsyPilot\" class=\"hnuser\">ClumsyPilot</a> <span class=\"age\"><a href=\"item?id=23040030\">1 hour ago</a></span> <span id=\"unv_23040030\"></span> | <a href=\"hide?id=23040030&amp;goto=news\">hide</a> | <a href=\"item?id=23040030\">18&nbsp;comments</a>              </td></tr>\n",
      "      <tr class=\"spacer\" style=\"height:5px\"></tr>\n",
      "                <tr class='athing' id='23039648'>\n",
      "      <td align=\"right\" valign=\"top\" class=\"title\"><span class=\"rank\">4.</span></td>      <td valign=\"top\" class=\"votelinks\"><center><a id='up_23039648' href='vote?id=23039648&amp;how=up&amp;goto=news'><div class='votearrow' title='upvote'></div></a></center></td><td class=\"title\"><a href=\"https://oneprofile.page\" class=\"storylink\">Show HN: An easy and simple landing page builder</a><span class=\"sitebit comhead\"> (<a href=\"from?site=oneprofile.page\"><span class=\"sitestr\">oneprofile.page</span></a>)</span></td></tr><tr><td colspan=\"2\"></td><td class=\"subtext\">\n",
      "        <span class=\"score\" id=\"score_23039648\">24 points</span> by <a href=\"user?id=qabilzahari\" class=\"hnuser\">qabilzahari</a> <span class=\"age\"><a href=\"item?id=23039648\">3 hours ago</a></span> <span id=\"unv_23039648\"></span> | <a href=\"hide?id=23039648&amp;goto=news\">hide</a> | <a href=\"item?id=23039648\">18&nbsp;comments</a>              </td></tr>\n",
      "      <tr class=\"spacer\" style=\"height:5px\"></tr>\n",
      "                <tr class='athing' id='23039980'>\n",
      "      <td align=\"right\" valign=\"top\" class=\"title\"><span class=\"rank\">5.</span></td>      <td valign=\"top\" class=\"votelinks\"><center><a id='up_23039980' href='vote?id=23039980&amp;how=up&amp;goto=news'><div class='votearrow' title='upvote'></div></a></center></td><td class=\"title\"><a href=\"https://blog.chewxy.com/2019/02/20/go-is-average/\" class=\"storylink\">OCaml is Pretty Great (2019)</a><span class=\"sitebit comhead\"> (<a href=\"from?site=chewxy.com\"><span class=\"sitestr\">chewxy.com</span></a>)</span></td></tr><tr><td colspan=\"2\"></td><td class=\"subtext\">\n",
      "        <span class=\"score\" id=\"score_23039980\">29 points</span> by <a href=\"user?id=lelf\" class=\"hnuser\">lelf</a> <span class=\"age\"><a href=\"item?id=23039980\">1 hour ago</a></span> <span id=\"unv_23039980\"></span> | <a href=\"hide?id=23039980&amp;goto=news\">hide</a> | <a href=\"item?id=23039980\">16&nbsp;comments</a>              </td></tr>\n",
      "      <tr class=\"spacer\" style=\"height:5px\"></tr>\n",
      "                <tr class='athing' id='23039348'>\n",
      "      <td align=\"right\" valign=\"top\" class=\"title\"><span class=\"rank\">6.</span></td>      <td valign=\"top\" class=\"votelinks\"><center><a id='up_23039348' href='vote?id=23039348&amp;how=up&amp;goto=news'><div class='votearrow' title='upvote'></div></a></center></td><td class=\"title\"><a href=\"https://github.com/pion\" class=\"storylink\">Modern and Cross Platform Stack for WebRTC</a><span class=\"sitebit comhead\"> (<a href=\"from?site=github.com\"><span class=\"sitestr\">github.com</span></a>)</span></td></tr><tr><td colspan=\"2\"></td><td class=\"subtext\">\n",
      "        <span class=\"score\" id=\"score_23039348\">36 points</span> by <a href=\"user?id=todsac\" class=\"hnuser\">todsac</a> <span class=\"age\"><a href=\"item?id=23039348\">4 hours ago</a></span> <span id=\"unv_23039348\"></span> | <a href=\"hide?id=23039348&amp;goto=news\">hide</a> | <a href=\"item?id=23039348\">15&nbsp;comments</a>              </td></tr>\n",
      "      <tr class=\"spacer\" style=\"height:5px\"></tr>\n",
      "                <tr class='athing' id='23027482'>\n",
      "      <td align=\"right\" valign=\"top\" class=\"title\"><span class=\"rank\">7.</span></td>      <td valign=\"top\" class=\"votelinks\"><center><a id='up_23027482' href='vote?id=23027482&amp;how=up&amp;goto=news'><div class='votearrow' title='upvote'></div></a></center></td><td class=\"title\"><a href=\"https://medium.com/@thezedwards/the-2020-url-querystring-data-leaks-millions-of-user-emails-leaking-from-popular-websites-to-39a09d2303d2\" class=\"storylink\">Millions of emails leaking from sites to advertising and analytics companies</a><span class=\"sitebit comhead\"> (<a href=\"from?site=medium.com\"><span class=\"sitestr\">medium.com</span></a>)</span></td></tr><tr><td colspan=\"2\"></td><td class=\"subtext\">\n",
      "        <span class=\"score\" id=\"score_23027482\">76 points</span> by <a href=\"user?id=aspenmayer\" class=\"hnuser\">aspenmayer</a> <span class=\"age\"><a href=\"item?id=23027482\">8 hours ago</a></span> <span id=\"unv_23027482\"></span> | <a href=\"hide?id=23027482&amp;goto=news\">hide</a> | <a href=\"item?id=23027482\">17&nbsp;comments</a>              </td></tr>\n",
      "      <tr class=\"spacer\" style=\"height:5px\"></tr>\n",
      "                <tr class='athing' id='23026259'>\n",
      "      <td align=\"right\" valign=\"top\" class=\"title\"><span class=\"rank\">8.</span></td>      <td valign=\"top\" class=\"votelinks\"><center><a id='up_23026259' href='vote?id=23026259&amp;how=up&amp;goto=news'><div class='votearrow' title='upvote'></div></a></center></td><td class=\"title\"><a href=\"https://www.theguardian.com/culture/2020/apr/29/nats-what-i-reckon-the-sweary-ranty-youtuber-whos-become-an-isolation-cooking-sensation\" class=\"storylink\">A sweary, ranty YouTuber who's become an isolation cooking sensation</a><span class=\"sitebit comhead\"> (<a href=\"from?site=theguardian.com\"><span class=\"sitestr\">theguardian.com</span></a>)</span></td></tr><tr><td colspan=\"2\"></td><td class=\"subtext\">\n",
      "        <span class=\"score\" id=\"score_23026259\">150 points</span> by <a href=\"user?id=mathgenius\" class=\"hnuser\">mathgenius</a> <span class=\"age\"><a href=\"item?id=23026259\">9 hours ago</a></span> <span id=\"unv_23026259\"></span> | <a href=\"hide?id=23026259&amp;goto=news\">hide</a> | <a href=\"item?id=23026259\">100&nbsp;comments</a>              </td></tr>\n",
      "      <tr class=\"spacer\" style=\"height:5px\"></tr>\n",
      "                <tr class='athing' id='23030489'>\n",
      "      <td align=\"right\" valign=\"top\" class=\"title\"><span class=\"rank\">9.</span></td>      <td valign=\"top\" class=\"votelinks\"><center><a id='up_23030489' href='vote?id=23030489&amp;how=up&amp;goto=news'><div class='votearrow' title='upvote'></div></a></center></td><td class=\"title\"><a href=\"https://sourcehut.org/blog/2020-04-30-the-sourcehut-hub-is-live/\" class=\"storylink\">The Sourcehut Project Hub</a><span class=\"sitebit comhead\"> (<a href=\"from?site=sourcehut.org\"><span class=\"sitestr\">sourcehut.org</span></a>)</span></td></tr><tr><td colspan=\"2\"></td><td class=\"subtext\">\n",
      "        <span class=\"score\" id=\"score_23030489\">257 points</span> by <a href=\"user?id=ddevault\" class=\"hnuser\">ddevault</a> <span class=\"age\"><a href=\"item?id=23030489\">13 hours ago</a></span> <span id=\"unv_23030489\"></span> | <a href=\"hide?id=23030489&amp;goto=news\">hide</a> | <a href=\"item?id=23030489\">66&nbsp;comments</a>              </td></tr>\n",
      "      <tr class=\"spacer\" style=\"height:5px\"></tr>\n",
      "                <tr class='athing' id='23029517'>\n",
      "      <td align=\"right\" valign=\"top\" class=\"title\"><span class=\"rank\">10.</span></td>      <td valign=\"top\" class=\"votelinks\"><center><a id='up_23029517' href='vote?id=23029517&amp;how=up&amp;goto=news'><div class='votearrow' title='upvote'></div></a></center></td><td class=\"title\"><a href=\"https://www.pouet.net/prod.php?which=85485\" class=\"storylink\">Show HN: Game of Life in 32 bytes of assembler</a><span class=\"sitebit comhead\"> (<a href=\"from?site=pouet.net\"><span class=\"sitestr\">pouet.net</span></a>)</span></td></tr><tr><td colspan=\"2\"></td><td class=\"subtext\">\n",
      "        <span class=\"score\" id=\"score_23029517\">179 points</span> by <a href=\"user?id=HellMood\" class=\"hnuser\">HellMood</a> <span class=\"age\"><a href=\"item?id=23029517\">12 hours ago</a></span> <span id=\"unv_23029517\"></span> | <a href=\"hide?id=23029517&amp;goto=news\">hide</a> | <a href=\"item?id=23029517\">29&nbsp;comments</a>              </td></tr>\n",
      "      <tr class=\"spacer\" style=\"height:5px\"></tr>\n",
      "                <tr class='athing' id='23036016'>\n",
      "      <td align=\"right\" valign=\"top\" class=\"title\"><span class=\"rank\">11.</span></td>      <td valign=\"top\" class=\"votelinks\"><center><a id='up_23036016' href='vote?id=23036016&amp;how=up&amp;goto=news'><div class='votearrow' title='upvote'></div></a></center></td><td class=\"title\"><a href=\"https://atshpthmkhc-app.azurewebsites.net/\" class=\"storylink\">Show HN: Full Text Search on Podcasts</a><span class=\"sitebit comhead\"> (<a href=\"from?site=atshpthmkhc-app.azurewebsites.net\"><span class=\"sitestr\">atshpthmkhc-app.azurewebsites.net</span></a>)</span></td></tr><tr><td colspan=\"2\"></td><td class=\"subtext\">\n",
      "        <span class=\"score\" id=\"score_23036016\">41 points</span> by <a href=\"user?id=nmiodice\" class=\"hnuser\">nmiodice</a> <span class=\"age\"><a href=\"item?id=23036016\">6 hours ago</a></span> <span id=\"unv_23036016\"></span> | <a href=\"hide?id=23036016&amp;goto=news\">hide</a> | <a href=\"item?id=23036016\">18&nbsp;comments</a>              </td></tr>\n",
      "      <tr class=\"spacer\" style=\"height:5px\"></tr>\n",
      "                <tr class='athing' id='23034608'>\n",
      "      <td align=\"right\" valign=\"top\" class=\"title\"><span class=\"rank\">12.</span></td>      <td valign=\"top\" class=\"votelinks\"><center><a id='up_23034608' href='vote?id=23034608&amp;how=up&amp;goto=news'><div class='votearrow' title='upvote'></div></a></center></td><td class=\"title\"><a href=\"https://urbit.org/blog/introducing-os1/\" class=\"storylink\">Urbit OS 1</a><span class=\"sitebit comhead\"> (<a href=\"from?site=urbit.org\"><span class=\"sitestr\">urbit.org</span></a>)</span></td></tr><tr><td colspan=\"2\"></td><td class=\"subtext\">\n",
      "        <span class=\"score\" id=\"score_23034608\">237 points</span> by <a href=\"user?id=pcr910303\" class=\"hnuser\">pcr910303</a> <span class=\"age\"><a href=\"item?id=23034608\">14 hours ago</a></span> <span id=\"unv_23034608\"></span> | <a href=\"hide?id=23034608&amp;goto=news\">hide</a> | <a href=\"item?id=23034608\">240&nbsp;comments</a>              </td></tr>\n",
      "      <tr class=\"spacer\" style=\"height:5px\"></tr>\n",
      "                <tr class='athing' id='23034924'>\n",
      "      <td align=\"right\" valign=\"top\" class=\"title\"><span class=\"rank\">13.</span></td>      <td valign=\"top\" class=\"votelinks\"><center><a id='up_23034924' href='vote?id=23034924&amp;how=up&amp;goto=news'><div class='votearrow' title='upvote'></div></a></center></td><td class=\"title\"><a href=\"https://mtlynch.io/stripe-update/\" class=\"storylink\">Stripe responded to my concerns about user tracking</a><span class=\"sitebit comhead\"> (<a href=\"from?site=mtlynch.io\"><span class=\"sitestr\">mtlynch.io</span></a>)</span></td></tr><tr><td colspan=\"2\"></td><td class=\"subtext\">\n",
      "        <span class=\"score\" id=\"score_23034924\">205 points</span> by <a href=\"user?id=mtlynch\" class=\"hnuser\">mtlynch</a> <span class=\"age\"><a href=\"item?id=23034924\">14 hours ago</a></span> <span id=\"unv_23034924\"></span> | <a href=\"hide?id=23034924&amp;goto=news\">hide</a> | <a href=\"item?id=23034924\">60&nbsp;comments</a>              </td></tr>\n",
      "      <tr class=\"spacer\" style=\"height:5px\"></tr>\n",
      "                <tr class='athing' id='23039557'>\n",
      "      <td align=\"right\" valign=\"top\" class=\"title\"><span class=\"rank\">14.</span></td>      <td valign=\"top\" class=\"votelinks\"><center><a id='up_23039557' href='vote?id=23039557&amp;how=up&amp;goto=news'><div class='votearrow' title='upvote'></div></a></center></td><td class=\"title\"><a href=\"https://medium.com/better-programming/save-your-linux-machine-from-certain-death-24ced335d969\" class=\"storylink\">Save your Linux machine – Recovering your root password and more</a><span class=\"sitebit comhead\"> (<a href=\"from?site=medium.com\"><span class=\"sitestr\">medium.com</span></a>)</span></td></tr><tr><td colspan=\"2\"></td><td class=\"subtext\">\n",
      "        <span class=\"score\" id=\"score_23039557\">25 points</span> by <a href=\"user?id=MartinHeinz\" class=\"hnuser\">MartinHeinz</a> <span class=\"age\"><a href=\"item?id=23039557\">3 hours ago</a></span> <span id=\"unv_23039557\"></span> | <a href=\"hide?id=23039557&amp;goto=news\">hide</a> | <a href=\"item?id=23039557\">5&nbsp;comments</a>              </td></tr>\n",
      "      <tr class=\"spacer\" style=\"height:5px\"></tr>\n",
      "                <tr class='athing' id='23033387'>\n",
      "      <td align=\"right\" valign=\"top\" class=\"title\"><span class=\"rank\">15.</span></td>      <td valign=\"top\" class=\"votelinks\"><center><a id='up_23033387' href='vote?id=23033387&amp;how=up&amp;goto=news'><div class='votearrow' title='upvote'></div></a></center></td><td class=\"title\"><a href=\"https://tara.ai/\" class=\"storylink\">Show HN: Tara – A smart and free alternative to Jira</a><span class=\"sitebit comhead\"> (<a href=\"from?site=tara.ai\"><span class=\"sitestr\">tara.ai</span></a>)</span></td></tr><tr><td colspan=\"2\"></td><td class=\"subtext\">\n",
      "        <span class=\"score\" id=\"score_23033387\">271 points</span> by <a href=\"user?id=iba99\" class=\"hnuser\">iba99</a> <span class=\"age\"><a href=\"item?id=23033387\">16 hours ago</a></span> <span id=\"unv_23033387\"></span> | <a href=\"hide?id=23033387&amp;goto=news\">hide</a> | <a href=\"item?id=23033387\">85&nbsp;comments</a>              </td></tr>\n",
      "      <tr class=\"spacer\" style=\"height:5px\"></tr>\n",
      "                <tr class='athing' id='23035107'>\n",
      "      <td align=\"right\" valign=\"top\" class=\"title\"><span class=\"rank\">16.</span></td>      <td valign=\"top\" class=\"votelinks\"><center><a id='up_23035107' href='vote?id=23035107&amp;how=up&amp;goto=news'><div class='votearrow' title='upvote'></div></a></center></td><td class=\"title\"><a href=\"http://people.math.harvard.edu/~ctm/home/text/others/shannon/entropy/entropy.pdf\" class=\"storylink\">A Mathematical Theory of Communication (1948) [pdf]</a><span class=\"sitebit comhead\"> (<a href=\"from?site=math.harvard.edu\"><span class=\"sitestr\">math.harvard.edu</span></a>)</span></td></tr><tr><td colspan=\"2\"></td><td class=\"subtext\">\n",
      "        <span class=\"score\" id=\"score_23035107\">149 points</span> by <a href=\"user?id=alokrai\" class=\"hnuser\">alokrai</a> <span class=\"age\"><a href=\"item?id=23035107\">14 hours ago</a></span> <span id=\"unv_23035107\"></span> | <a href=\"hide?id=23035107&amp;goto=news\">hide</a> | <a href=\"item?id=23035107\">34&nbsp;comments</a>              </td></tr>\n",
      "      <tr class=\"spacer\" style=\"height:5px\"></tr>\n",
      "                <tr class='athing' id='23035266'>\n",
      "      <td align=\"right\" valign=\"top\" class=\"title\"><span class=\"rank\">17.</span></td>      <td valign=\"top\" class=\"votelinks\"><center><a id='up_23035266' href='vote?id=23035266&amp;how=up&amp;goto=news'><div class='votearrow' title='upvote'></div></a></center></td><td class=\"title\"><a href=\"https://www.forbes.com/sites/thomasbrewster/2020/04/30/exclusive-warning-over-chinese-mobile-giant-xiaomi-recording-millions-of-peoples-private-web-and-phone-use/#6a50cdaf1b2a\" class=\"storylink\">Xiaomi Recording ‘Private’ Web and Phone Use</a><span class=\"sitebit comhead\"> (<a href=\"from?site=forbes.com\"><span class=\"sitestr\">forbes.com</span></a>)</span></td></tr><tr><td colspan=\"2\"></td><td class=\"subtext\">\n",
      "        <span class=\"score\" id=\"score_23035266\">411 points</span> by <a href=\"user?id=rock_artist\" class=\"hnuser\">rock_artist</a> <span class=\"age\"><a href=\"item?id=23035266\">14 hours ago</a></span> <span id=\"unv_23035266\"></span> | <a href=\"hide?id=23035266&amp;goto=news\">hide</a> | <a href=\"item?id=23035266\">183&nbsp;comments</a>              </td></tr>\n",
      "      <tr class=\"spacer\" style=\"height:5px\"></tr>\n",
      "                <tr class='athing' id='23035120'>\n",
      "      <td align=\"right\" valign=\"top\" class=\"title\"><span class=\"rank\">18.</span></td>      <td valign=\"top\" class=\"votelinks\"><center><a id='up_23035120' href='vote?id=23035120&amp;how=up&amp;goto=news'><div class='votearrow' title='upvote'></div></a></center></td><td class=\"title\"><a href=\"https://ranvir.xyz/blog/svm-support-vector-machines-in-machine-learning/\" class=\"storylink\">Introduction to Support Vector Machines in Machine Learning</a><span class=\"sitebit comhead\"> (<a href=\"from?site=ranvir.xyz\"><span class=\"sitestr\">ranvir.xyz</span></a>)</span></td></tr><tr><td colspan=\"2\"></td><td class=\"subtext\">\n",
      "        <span class=\"score\" id=\"score_23035120\">136 points</span> by <a href=\"user?id=rangerranvir\" class=\"hnuser\">rangerranvir</a> <span class=\"age\"><a href=\"item?id=23035120\">14 hours ago</a></span> <span id=\"unv_23035120\"></span> | <a href=\"hide?id=23035120&amp;goto=news\">hide</a> | <a href=\"item?id=23035120\">72&nbsp;comments</a>              </td></tr>\n",
      "      <tr class=\"spacer\" style=\"height:5px\"></tr>\n",
      "                <tr class='athing' id='23038731'>\n",
      "      <td align=\"right\" valign=\"top\" class=\"title\"><span class=\"rank\">19.</span></td>      <td valign=\"top\" class=\"votelinks\"><center><a id='up_23038731' href='vote?id=23038731&amp;how=up&amp;goto=news'><div class='votearrow' title='upvote'></div></a></center></td><td class=\"title\"><a href=\"https://www.virginialawreview.org/volumes/content/new-gatekeepers-private-firms-public-enforcers\" class=\"storylink\">The New Gatekeepers: Private Firms as Public Enforcers</a><span class=\"sitebit comhead\"> (<a href=\"from?site=virginialawreview.org\"><span class=\"sitestr\">virginialawreview.org</span></a>)</span></td></tr><tr><td colspan=\"2\"></td><td class=\"subtext\">\n",
      "        <span class=\"score\" id=\"score_23038731\">23 points</span> by <a href=\"user?id=erentz\" class=\"hnuser\">erentz</a> <span class=\"age\"><a href=\"item?id=23038731\">6 hours ago</a></span> <span id=\"unv_23038731\"></span> | <a href=\"hide?id=23038731&amp;goto=news\">hide</a> | <a href=\"item?id=23038731\">discuss</a>              </td></tr>\n",
      "      <tr class=\"spacer\" style=\"height:5px\"></tr>\n",
      "                <tr class='athing' id='23033451'>\n",
      "      <td align=\"right\" valign=\"top\" class=\"title\"><span class=\"rank\">20.</span></td>      <td valign=\"top\" class=\"votelinks\"><center><a id='up_23033451' href='vote?id=23033451&amp;how=up&amp;goto=news'><div class='votearrow' title='upvote'></div></a></center></td><td class=\"title\"><a href=\"https://blogs.windows.com/windowsdeveloper/2020/04/30/rust-winrt-public-preview/\" class=\"storylink\">Rust/WinRT Public Preview</a><span class=\"sitebit comhead\"> (<a href=\"from?site=windows.com\"><span class=\"sitestr\">windows.com</span></a>)</span></td></tr><tr><td colspan=\"2\"></td><td class=\"subtext\">\n",
      "        <span class=\"score\" id=\"score_23033451\">553 points</span> by <a href=\"user?id=steveklabnik\" class=\"hnuser\">steveklabnik</a> <span class=\"age\"><a href=\"item?id=23033451\">16 hours ago</a></span> <span id=\"unv_23033451\"></span> | <a href=\"hide?id=23033451&amp;goto=news\">hide</a> | <a href=\"item?id=23033451\">169&nbsp;comments</a>              </td></tr>\n",
      "      <tr class=\"spacer\" style=\"height:5px\"></tr>\n",
      "                <tr class='athing' id='23035094'>\n",
      "      <td align=\"right\" valign=\"top\" class=\"title\"><span class=\"rank\">21.</span></td>      <td valign=\"top\" class=\"votelinks\"><center><a id='up_23035094' href='vote?id=23035094&amp;how=up&amp;goto=news'><div class='votearrow' title='upvote'></div></a></center></td><td class=\"title\"><a href=\"https://layerci.com\" class=\"storylink\">Show HN: Layer – Get a dozen staging servers per developer</a><span class=\"sitebit comhead\"> (<a href=\"from?site=layerci.com\"><span class=\"sitestr\">layerci.com</span></a>)</span></td></tr><tr><td colspan=\"2\"></td><td class=\"subtext\">\n",
      "        <span class=\"score\" id=\"score_23035094\">130 points</span> by <a href=\"user?id=colinchartier\" class=\"hnuser\">colinchartier</a> <span class=\"age\"><a href=\"item?id=23035094\">13 hours ago</a></span> <span id=\"unv_23035094\"></span> | <a href=\"hide?id=23035094&amp;goto=news\">hide</a> | <a href=\"item?id=23035094\">33&nbsp;comments</a>              </td></tr>\n",
      "      <tr class=\"spacer\" style=\"height:5px\"></tr>\n",
      "                <tr class='athing' id='23016252'>\n",
      "      <td align=\"right\" valign=\"top\" class=\"title\"><span class=\"rank\">22.</span></td>      <td valign=\"top\" class=\"votelinks\"><center><a id='up_23016252' href='vote?id=23016252&amp;how=up&amp;goto=news'><div class='votearrow' title='upvote'></div></a></center></td><td class=\"title\"><a href=\"https://caseymuratori.com/blog_0038\" class=\"storylink\">Printing Presses Are Giant GPUs</a><span class=\"sitebit comhead\"> (<a href=\"from?site=caseymuratori.com\"><span class=\"sitestr\">caseymuratori.com</span></a>)</span></td></tr><tr><td colspan=\"2\"></td><td class=\"subtext\">\n",
      "        <span class=\"score\" id=\"score_23016252\">24 points</span> by <a href=\"user?id=ingve\" class=\"hnuser\">ingve</a> <span class=\"age\"><a href=\"item?id=23016252\">5 hours ago</a></span> <span id=\"unv_23016252\"></span> | <a href=\"hide?id=23016252&amp;goto=news\">hide</a> | <a href=\"item?id=23016252\">10&nbsp;comments</a>              </td></tr>\n",
      "      <tr class=\"spacer\" style=\"height:5px\"></tr>\n",
      "                <tr class='athing' id='23026057'>\n",
      "      <td align=\"right\" valign=\"top\" class=\"title\"><span class=\"rank\">23.</span></td>      <td valign=\"top\" class=\"votelinks\"><center><a id='up_23026057' href='vote?id=23026057&amp;how=up&amp;goto=news'><div class='votearrow' title='upvote'></div></a></center></td><td class=\"title\"><a href=\"https://whattime.today/\" class=\"storylink\">Show HN: Summarize your time availability in seconds</a><span class=\"sitebit comhead\"> (<a href=\"from?site=whattime.today\"><span class=\"sitestr\">whattime.today</span></a>)</span></td></tr><tr><td colspan=\"2\"></td><td class=\"subtext\">\n",
      "        <span class=\"score\" id=\"score_23026057\">89 points</span> by <a href=\"user?id=jonathancai11\" class=\"hnuser\">jonathancai11</a> <span class=\"age\"><a href=\"item?id=23026057\">12 hours ago</a></span> <span id=\"unv_23026057\"></span> | <a href=\"hide?id=23026057&amp;goto=news\">hide</a> | <a href=\"item?id=23026057\">48&nbsp;comments</a>              </td></tr>\n",
      "      <tr class=\"spacer\" style=\"height:5px\"></tr>\n",
      "                <tr class='athing' id='23030685'>\n",
      "      <td align=\"right\" valign=\"top\" class=\"title\"><span class=\"rank\">24.</span></td>      <td valign=\"top\" class=\"votelinks\"><center><a id='up_23030685' href='vote?id=23030685&amp;how=up&amp;goto=news'><div class='votearrow' title='upvote'></div></a></center></td><td class=\"title\"><a href=\"http://antirez.com/news/132\" class=\"storylink\">Redis 6.0 GA</a><span class=\"sitebit comhead\"> (<a href=\"from?site=antirez.com\"><span class=\"sitestr\">antirez.com</span></a>)</span></td></tr><tr><td colspan=\"2\"></td><td class=\"subtext\">\n",
      "        <span class=\"score\" id=\"score_23030685\">633 points</span> by <a href=\"user?id=ingve\" class=\"hnuser\">ingve</a> <span class=\"age\"><a href=\"item?id=23030685\">20 hours ago</a></span> <span id=\"unv_23030685\"></span> | <a href=\"hide?id=23030685&amp;goto=news\">hide</a> | <a href=\"item?id=23030685\">185&nbsp;comments</a>              </td></tr>\n",
      "      <tr class=\"spacer\" style=\"height:5px\"></tr>\n",
      "                <tr class='athing' id='23039560'>\n",
      "      <td align=\"right\" valign=\"top\" class=\"title\"><span class=\"rank\">25.</span></td>      <td valign=\"top\" class=\"votelinks\"><center><a id='up_23039560' href='vote?id=23039560&amp;how=up&amp;goto=news'><div class='votearrow' title='upvote'></div></a></center></td><td class=\"title\"><a href=\"https://www.forbes.com/sites/moorinsights/2020/04/30/googles-top-quantum-scientist-explains-in-detail-why-he-resigned/\" class=\"storylink\">Quantum scientist John Martinis explains why he resigned from Google</a><span class=\"sitebit comhead\"> (<a href=\"from?site=forbes.com\"><span class=\"sitestr\">forbes.com</span></a>)</span></td></tr><tr><td colspan=\"2\"></td><td class=\"subtext\">\n",
      "        <span class=\"score\" id=\"score_23039560\">64 points</span> by <a href=\"user?id=jonbaer\" class=\"hnuser\">jonbaer</a> <span class=\"age\"><a href=\"item?id=23039560\">3 hours ago</a></span> <span id=\"unv_23039560\"></span> | <a href=\"hide?id=23039560&amp;goto=news\">hide</a> | <a href=\"item?id=23039560\">16&nbsp;comments</a>              </td></tr>\n",
      "      <tr class=\"spacer\" style=\"height:5px\"></tr>\n",
      "                <tr class='athing' id='23029392'>\n",
      "      <td align=\"right\" valign=\"top\" class=\"title\"><span class=\"rank\">26.</span></td>      <td valign=\"top\" class=\"votelinks\"><center><a id='up_23029392' href='vote?id=23029392&amp;how=up&amp;goto=news'><div class='votearrow' title='upvote'></div></a></center></td><td class=\"title\"><a href=\"http://nautil.us/issue/84/outbreak/guided-by-plant-voices\" class=\"storylink\" rel=\"nofollow\">Guided by Plant Voices</a><span class=\"sitebit comhead\"> (<a href=\"from?site=nautil.us\"><span class=\"sitestr\">nautil.us</span></a>)</span></td></tr><tr><td colspan=\"2\"></td><td class=\"subtext\">\n",
      "        <span class=\"score\" id=\"score_23029392\">4 points</span> by <a href=\"user?id=dnetesn\" class=\"hnuser\">dnetesn</a> <span class=\"age\"><a href=\"item?id=23029392\">2 hours ago</a></span> <span id=\"unv_23029392\"></span> | <a href=\"hide?id=23029392&amp;goto=news\">hide</a> | <a href=\"item?id=23029392\">1&nbsp;comment</a>              </td></tr>\n",
      "      <tr class=\"spacer\" style=\"height:5px\"></tr>\n",
      "                <tr class='athing' id='23035325'>\n",
      "      <td align=\"right\" valign=\"top\" class=\"title\"><span class=\"rank\">27.</span></td>      <td valign=\"top\" class=\"votelinks\"><center><a id='up_23035325' href='vote?id=23035325&amp;how=up&amp;goto=news'><div class='votearrow' title='upvote'></div></a></center></td><td class=\"title\"><a href=\"https://grfia.dlsi.ua.es/ml/algorithms/references/editsurvey_bille.pdf\" class=\"storylink\" rel=\"nofollow\">A Survey on Tree Edit Distance and Related Problems (2005) [pdf]</a><span class=\"sitebit comhead\"> (<a href=\"from?site=ua.es\"><span class=\"sitestr\">ua.es</span></a>)</span></td></tr><tr><td colspan=\"2\"></td><td class=\"subtext\">\n",
      "        <span class=\"score\" id=\"score_23035325\">5 points</span> by <a href=\"user?id=pshaw\" class=\"hnuser\">pshaw</a> <span class=\"age\"><a href=\"item?id=23035325\">3 hours ago</a></span> <span id=\"unv_23035325\"></span> | <a href=\"hide?id=23035325&amp;goto=news\">hide</a> | <a href=\"item?id=23035325\">discuss</a>              </td></tr>\n",
      "      <tr class=\"spacer\" style=\"height:5px\"></tr>\n",
      "                <tr class='athing' id='23036559'>\n",
      "      <td align=\"right\" valign=\"top\" class=\"title\"><span class=\"rank\">28.</span></td>      <td valign=\"top\" class=\"votelinks\"><center><a id='up_23036559' href='vote?id=23036559&amp;how=up&amp;goto=news'><div class='votearrow' title='upvote'></div></a></center></td><td class=\"title\"><a href=\"https://pop.system76.com/\" class=\"storylink\">Pop OS 20.04 LTS</a><span class=\"sitebit comhead\"> (<a href=\"from?site=system76.com\"><span class=\"sitestr\">system76.com</span></a>)</span></td></tr><tr><td colspan=\"2\"></td><td class=\"subtext\">\n",
      "        <span class=\"score\" id=\"score_23036559\">213 points</span> by <a href=\"user?id=jamieweb\" class=\"hnuser\">jamieweb</a> <span class=\"age\"><a href=\"item?id=23036559\">12 hours ago</a></span> <span id=\"unv_23036559\"></span> | <a href=\"hide?id=23036559&amp;goto=news\">hide</a> | <a href=\"item?id=23036559\">108&nbsp;comments</a>              </td></tr>\n",
      "      <tr class=\"spacer\" style=\"height:5px\"></tr>\n",
      "                <tr class='athing' id='23039238'>\n",
      "      <td align=\"right\" valign=\"top\" class=\"title\"><span class=\"rank\">29.</span></td>      <td valign=\"top\" class=\"votelinks\"><center><a id='up_23039238' href='vote?id=23039238&amp;how=up&amp;goto=news'><div class='votearrow' title='upvote'></div></a></center></td><td class=\"title\"><a href=\"https://time.com/5828898/stocks-recovering-economy-collapses-makes-sense/\" class=\"storylink\">Stocks Are Recovering While the Economy Collapses</a><span class=\"sitebit comhead\"> (<a href=\"from?site=time.com\"><span class=\"sitestr\">time.com</span></a>)</span></td></tr><tr><td colspan=\"2\"></td><td class=\"subtext\">\n",
      "        <span class=\"score\" id=\"score_23039238\">83 points</span> by <a href=\"user?id=colinprince\" class=\"hnuser\">colinprince</a> <span class=\"age\"><a href=\"item?id=23039238\">5 hours ago</a></span> <span id=\"unv_23039238\"></span> | <a href=\"hide?id=23039238&amp;goto=news\">hide</a> | <a href=\"item?id=23039238\">30&nbsp;comments</a>              </td></tr>\n",
      "      <tr class=\"spacer\" style=\"height:5px\"></tr>\n",
      "                <tr class='athing' id='23030298'>\n",
      "      <td align=\"right\" valign=\"top\" class=\"title\"><span class=\"rank\">30.</span></td>      <td valign=\"top\" class=\"votelinks\"><center><a id='up_23030298' href='vote?id=23030298&amp;how=up&amp;goto=news'><div class='votearrow' title='upvote'></div></a></center></td><td class=\"title\"><a href=\"https://getpantry.cloud/\" class=\"storylink\">Show HN: Pantry – Free JSON Storage for Personal Projects</a><span class=\"sitebit comhead\"> (<a href=\"from?site=getpantry.cloud\"><span class=\"sitestr\">getpantry.cloud</span></a>)</span></td></tr><tr><td colspan=\"2\"></td><td class=\"subtext\">\n",
      "        <span class=\"score\" id=\"score_23030298\">85 points</span> by <a href=\"user?id=fiveSpeedManual\" class=\"hnuser\">fiveSpeedManual</a> <span class=\"age\"><a href=\"item?id=23030298\">13 hours ago</a></span> <span id=\"unv_23030298\"></span> | <a href=\"hide?id=23030298&amp;goto=news\">hide</a> | <a href=\"item?id=23030298\">42&nbsp;comments</a>              </td></tr>\n",
      "      <tr class=\"spacer\" style=\"height:5px\"></tr>\n",
      "            <tr class=\"morespace\" style=\"height:10px\"></tr><tr><td colspan=\"2\"></td><td class=\"title\"><a href=\"news?p=2\" class=\"morelink\" rel=\"next\">More</a></td></tr>\n",
      "  </table>\n",
      "</td></tr>\n",
      "<tr><td><img src=\"s.gif\" height=\"10\" width=\"0\"><table width=\"100%\" cellspacing=\"0\" cellpadding=\"1\"><tr><td bgcolor=\"#ff6600\"></td></tr></table><br><center><span class=\"yclinks\"><a href=\"newsguidelines.html\">Guidelines</a>\n",
      "        | <a href=\"newsfaq.html\">FAQ</a>\n",
      "        | <a href=\"mailto:hn@ycombinator.com\">Support</a>\n",
      "        | <a href=\"https://github.com/HackerNews/API\">API</a>\n",
      "        | <a href=\"security.html\">Security</a>\n",
      "        | <a href=\"lists\">Lists</a>\n",
      "        | <a href=\"bookmarklet.html\" rel=\"nofollow\">Bookmarklet</a>\n",
      "        | <a href=\"http://www.ycombinator.com/legal/\">Legal</a>\n",
      "        | <a href=\"http://www.ycombinator.com/apply/\">Apply to YC</a>\n",
      "        | <a href=\"mailto:hn@ycombinator.com\">Contact</a></span><br><br><form method=\"get\" action=\"//hn.algolia.com/\">Search:\n",
      "          <input type=\"text\" name=\"q\" value=\"\" size=\"17\" autocorrect=\"off\" spellcheck=\"false\" autocapitalize=\"off\" autocomplete=\"false\"></form>\n",
      "            </center></td></tr>\n",
      "      </table></center></body><script type='text/javascript' src='hn.js?czQipXoiQovJZd6nvhI1'></script></html>\n",
      "\n"
     ]
    }
   ],
   "source": [
    "import requests\n",
    "\n",
    "# Fetch a web page\n",
    "r = requests.get(\"https://news.ycombinator.com\")\n",
    "print(r.text)"
   ]
  },
  {
   "cell_type": "code",
   "execution_count": 5,
   "metadata": {},
   "outputs": [
    {
     "name": "stdout",
     "output_type": "stream",
     "text": [
      "\n",
      "        \n",
      "          \n",
      "        Hacker News\n",
      "        \n",
      "                  Hacker News\n",
      "              new | past | comments | ask | show | jobs | submit            \n",
      "                              login\n",
      "                          \n",
      "              \n",
      "\n",
      "              \n",
      "      1.      ICANN board withholds consent for a change of control of the .org registry (icann.org)\n",
      "        659 points by cjbprime 6 hours ago  | hide | 98&nbsp;comments              \n",
      "      \n",
      "                \n",
      "      2.      I’ve Consed Every Pair (medium.com)\n",
      "        349 points by DonHopkins 11 hours ago  | hide | 127&nbsp;comments              \n",
      "      \n",
      "                \n",
      "      3.      Domesticating Kubernetes (blog.quickbird.uk)\n",
      "        36 points by ClumsyPilot 1 hour ago  | hide | 18&nbsp;comments              \n",
      "      \n",
      "                \n",
      "      4.      Show HN: An easy and simple landing page builder (oneprofile.page)\n",
      "        24 points by qabilzahari 3 hours ago  | hide | 18&nbsp;comments              \n",
      "      \n",
      "                \n",
      "      5.      OCaml is Pretty Great (2019) (chewxy.com)\n",
      "        29 points by lelf 1 hour ago  | hide | 16&nbsp;comments              \n",
      "      \n",
      "                \n",
      "      6.      Modern and Cross Platform Stack for WebRTC (github.com)\n",
      "        36 points by todsac 4 hours ago  | hide | 15&nbsp;comments              \n",
      "      \n",
      "                \n",
      "      7.      Millions of emails leaking from sites to advertising and analytics companies (medium.com)\n",
      "        76 points by aspenmayer 8 hours ago  | hide | 17&nbsp;comments              \n",
      "      \n",
      "                \n",
      "      8.      A sweary, ranty YouTuber who's become an isolation cooking sensation (theguardian.com)\n",
      "        150 points by mathgenius 9 hours ago  | hide | 100&nbsp;comments              \n",
      "      \n",
      "                \n",
      "      9.      The Sourcehut Project Hub (sourcehut.org)\n",
      "        257 points by ddevault 13 hours ago  | hide | 66&nbsp;comments              \n",
      "      \n",
      "                \n",
      "      10.      Show HN: Game of Life in 32 bytes of assembler (pouet.net)\n",
      "        179 points by HellMood 12 hours ago  | hide | 29&nbsp;comments              \n",
      "      \n",
      "                \n",
      "      11.      Show HN: Full Text Search on Podcasts (atshpthmkhc-app.azurewebsites.net)\n",
      "        41 points by nmiodice 6 hours ago  | hide | 18&nbsp;comments              \n",
      "      \n",
      "                \n",
      "      12.      Urbit OS 1 (urbit.org)\n",
      "        237 points by pcr910303 14 hours ago  | hide | 240&nbsp;comments              \n",
      "      \n",
      "                \n",
      "      13.      Stripe responded to my concerns about user tracking (mtlynch.io)\n",
      "        205 points by mtlynch 14 hours ago  | hide | 60&nbsp;comments              \n",
      "      \n",
      "                \n",
      "      14.      Save your Linux machine – Recovering your root password and more (medium.com)\n",
      "        25 points by MartinHeinz 3 hours ago  | hide | 5&nbsp;comments              \n",
      "      \n",
      "                \n",
      "      15.      Show HN: Tara – A smart and free alternative to Jira (tara.ai)\n",
      "        271 points by iba99 16 hours ago  | hide | 85&nbsp;comments              \n",
      "      \n",
      "                \n",
      "      16.      A Mathematical Theory of Communication (1948) [pdf] (math.harvard.edu)\n",
      "        149 points by alokrai 14 hours ago  | hide | 34&nbsp;comments              \n",
      "      \n",
      "                \n",
      "      17.      Xiaomi Recording ‘Private’ Web and Phone Use (forbes.com)\n",
      "        411 points by rock_artist 14 hours ago  | hide | 183&nbsp;comments              \n",
      "      \n",
      "                \n",
      "      18.      Introduction to Support Vector Machines in Machine Learning (ranvir.xyz)\n",
      "        136 points by rangerranvir 14 hours ago  | hide | 72&nbsp;comments              \n",
      "      \n",
      "                \n",
      "      19.      The New Gatekeepers: Private Firms as Public Enforcers (virginialawreview.org)\n",
      "        23 points by erentz 6 hours ago  | hide | discuss              \n",
      "      \n",
      "                \n",
      "      20.      Rust/WinRT Public Preview (windows.com)\n",
      "        553 points by steveklabnik 16 hours ago  | hide | 169&nbsp;comments              \n",
      "      \n",
      "                \n",
      "      21.      Show HN: Layer – Get a dozen staging servers per developer (layerci.com)\n",
      "        130 points by colinchartier 13 hours ago  | hide | 33&nbsp;comments              \n",
      "      \n",
      "                \n",
      "      22.      Printing Presses Are Giant GPUs (caseymuratori.com)\n",
      "        24 points by ingve 5 hours ago  | hide | 10&nbsp;comments              \n",
      "      \n",
      "                \n",
      "      23.      Show HN: Summarize your time availability in seconds (whattime.today)\n",
      "        89 points by jonathancai11 12 hours ago  | hide | 48&nbsp;comments              \n",
      "      \n",
      "                \n",
      "      24.      Redis 6.0 GA (antirez.com)\n",
      "        633 points by ingve 20 hours ago  | hide | 185&nbsp;comments              \n",
      "      \n",
      "                \n",
      "      25.      Quantum scientist John Martinis explains why he resigned from Google (forbes.com)\n",
      "        64 points by jonbaer 3 hours ago  | hide | 16&nbsp;comments              \n",
      "      \n",
      "                \n",
      "      26.      Guided by Plant Voices (nautil.us)\n",
      "        4 points by dnetesn 2 hours ago  | hide | 1&nbsp;comment              \n",
      "      \n",
      "                \n",
      "      27.      A Survey on Tree Edit Distance and Related Problems (2005) [pdf] (ua.es)\n",
      "        5 points by pshaw 3 hours ago  | hide | discuss              \n",
      "      \n",
      "                \n",
      "      28.      Pop OS 20.04 LTS (system76.com)\n",
      "        213 points by jamieweb 12 hours ago  | hide | 108&nbsp;comments              \n",
      "      \n",
      "                \n",
      "      29.      Stocks Are Recovering While the Economy Collapses (time.com)\n",
      "        83 points by colinprince 5 hours ago  | hide | 30&nbsp;comments              \n",
      "      \n",
      "                \n",
      "      30.      Show HN: Pantry – Free JSON Storage for Personal Projects (getpantry.cloud)\n",
      "        85 points by fiveSpeedManual 13 hours ago  | hide | 42&nbsp;comments              \n",
      "      \n",
      "            More\n",
      "  \n",
      "\n",
      "Guidelines\n",
      "        | FAQ\n",
      "        | Support\n",
      "        | API\n",
      "        | Security\n",
      "        | Lists\n",
      "        | Bookmarklet\n",
      "        | Legal\n",
      "        | Apply to YC\n",
      "        | ContactSearch:\n",
      "          \n",
      "            \n",
      "      \n",
      "\n"
     ]
    }
   ],
   "source": [
    "import re\n",
    "\n",
    "# Remove HTML tags using RegEx\n",
    "pattern = re.compile(r'<.*?>')  # tags look like <...>\n",
    "print(pattern.sub('', r.text))  # replace them with blank"
   ]
  },
  {
   "cell_type": "code",
   "execution_count": 6,
   "metadata": {},
   "outputs": [
    {
     "name": "stdout",
     "output_type": "stream",
     "text": [
      "\n",
      "        \n",
      "          \n",
      "        Hacker News\n",
      "        \n",
      "                  Hacker News\n",
      "              new | past | comments | ask | show | jobs | submit            \n",
      "                              login\n",
      "                          \n",
      "              \n",
      "\n",
      "              \n",
      "      1.      ICANN board withholds consent for a change of control of the .org registry (icann.org)\n",
      "        659 points by cjbprime 6 hours ago  | hide | 98 comments              \n",
      "      \n",
      "                \n",
      "      2.      I’ve Consed Every Pair (medium.com)\n",
      "        349 points by DonHopkins 11 hours ago  | hide | 127 comments              \n",
      "      \n",
      "                \n",
      "      3.      Domesticating Kubernetes (blog.quickbird.uk)\n",
      "        36 points by ClumsyPilot 1 hour ago  | hide | 18 comments              \n",
      "      \n",
      "                \n",
      "      4.      Show HN: An easy and simple landing page builder (oneprofile.page)\n",
      "        24 points by qabilzahari 3 hours ago  | hide | 18 comments              \n",
      "      \n",
      "                \n",
      "      5.      OCaml is Pretty Great (2019) (chewxy.com)\n",
      "        29 points by lelf 1 hour ago  | hide | 16 comments              \n",
      "      \n",
      "                \n",
      "      6.      Modern and Cross Platform Stack for WebRTC (github.com)\n",
      "        36 points by todsac 4 hours ago  | hide | 15 comments              \n",
      "      \n",
      "                \n",
      "      7.      Millions of emails leaking from sites to advertising and analytics companies (medium.com)\n",
      "        76 points by aspenmayer 8 hours ago  | hide | 17 comments              \n",
      "      \n",
      "                \n",
      "      8.      A sweary, ranty YouTuber who's become an isolation cooking sensation (theguardian.com)\n",
      "        150 points by mathgenius 9 hours ago  | hide | 100 comments              \n",
      "      \n",
      "                \n",
      "      9.      The Sourcehut Project Hub (sourcehut.org)\n",
      "        257 points by ddevault 13 hours ago  | hide | 66 comments              \n",
      "      \n",
      "                \n",
      "      10.      Show HN: Game of Life in 32 bytes of assembler (pouet.net)\n",
      "        179 points by HellMood 12 hours ago  | hide | 29 comments              \n",
      "      \n",
      "                \n",
      "      11.      Show HN: Full Text Search on Podcasts (atshpthmkhc-app.azurewebsites.net)\n",
      "        41 points by nmiodice 6 hours ago  | hide | 18 comments              \n",
      "      \n",
      "                \n",
      "      12.      Urbit OS 1 (urbit.org)\n",
      "        237 points by pcr910303 14 hours ago  | hide | 240 comments              \n",
      "      \n",
      "                \n",
      "      13.      Stripe responded to my concerns about user tracking (mtlynch.io)\n",
      "        205 points by mtlynch 14 hours ago  | hide | 60 comments              \n",
      "      \n",
      "                \n",
      "      14.      Save your Linux machine – Recovering your root password and more (medium.com)\n",
      "        25 points by MartinHeinz 3 hours ago  | hide | 5 comments              \n",
      "      \n",
      "                \n",
      "      15.      Show HN: Tara – A smart and free alternative to Jira (tara.ai)\n",
      "        271 points by iba99 16 hours ago  | hide | 85 comments              \n",
      "      \n",
      "                \n",
      "      16.      A Mathematical Theory of Communication (1948) [pdf] (math.harvard.edu)\n",
      "        149 points by alokrai 14 hours ago  | hide | 34 comments              \n",
      "      \n",
      "                \n",
      "      17.      Xiaomi Recording ‘Private’ Web and Phone Use (forbes.com)\n",
      "        411 points by rock_artist 14 hours ago  | hide | 183 comments              \n",
      "      \n",
      "                \n",
      "      18.      Introduction to Support Vector Machines in Machine Learning (ranvir.xyz)\n",
      "        136 points by rangerranvir 14 hours ago  | hide | 72 comments              \n",
      "      \n",
      "                \n",
      "      19.      The New Gatekeepers: Private Firms as Public Enforcers (virginialawreview.org)\n",
      "        23 points by erentz 6 hours ago  | hide | discuss              \n",
      "      \n",
      "                \n",
      "      20.      Rust/WinRT Public Preview (windows.com)\n",
      "        553 points by steveklabnik 16 hours ago  | hide | 169 comments              \n",
      "      \n",
      "                \n",
      "      21.      Show HN: Layer – Get a dozen staging servers per developer (layerci.com)\n",
      "        130 points by colinchartier 13 hours ago  | hide | 33 comments              \n",
      "      \n",
      "                \n",
      "      22.      Printing Presses Are Giant GPUs (caseymuratori.com)\n",
      "        24 points by ingve 5 hours ago  | hide | 10 comments              \n",
      "      \n",
      "                \n",
      "      23.      Show HN: Summarize your time availability in seconds (whattime.today)\n",
      "        89 points by jonathancai11 12 hours ago  | hide | 48 comments              \n",
      "      \n",
      "                \n",
      "      24.      Redis 6.0 GA (antirez.com)\n",
      "        633 points by ingve 20 hours ago  | hide | 185 comments              \n",
      "      \n",
      "                \n",
      "      25.      Quantum scientist John Martinis explains why he resigned from Google (forbes.com)\n",
      "        64 points by jonbaer 3 hours ago  | hide | 16 comments              \n",
      "      \n",
      "                \n",
      "      26.      Guided by Plant Voices (nautil.us)\n",
      "        4 points by dnetesn 2 hours ago  | hide | 1 comment              \n",
      "      \n",
      "                \n",
      "      27.      A Survey on Tree Edit Distance and Related Problems (2005) [pdf] (ua.es)\n",
      "        5 points by pshaw 3 hours ago  | hide | discuss              \n",
      "      \n",
      "                \n",
      "      28.      Pop OS 20.04 LTS (system76.com)\n",
      "        213 points by jamieweb 12 hours ago  | hide | 108 comments              \n",
      "      \n",
      "                \n",
      "      29.      Stocks Are Recovering While the Economy Collapses (time.com)\n",
      "        83 points by colinprince 5 hours ago  | hide | 30 comments              \n",
      "      \n",
      "                \n",
      "      30.      Show HN: Pantry – Free JSON Storage for Personal Projects (getpantry.cloud)\n",
      "        85 points by fiveSpeedManual 13 hours ago  | hide | 42 comments              \n",
      "      \n",
      "            More\n",
      "  \n",
      "\n",
      "Guidelines\n",
      "        | FAQ\n",
      "        | Support\n",
      "        | API\n",
      "        | Security\n",
      "        | Lists\n",
      "        | Bookmarklet\n",
      "        | Legal\n",
      "        | Apply to YC\n",
      "        | ContactSearch:\n",
      "          \n",
      "            \n",
      "      \n",
      "\n"
     ]
    }
   ],
   "source": [
    "from bs4 import BeautifulSoup\n",
    "\n",
    "# Remove HTML tags using Beautiful Soup library\n",
    "soup = BeautifulSoup(r.text, \"html5lib\")\n",
    "print(soup.get_text())"
   ]
  },
  {
   "cell_type": "code",
   "execution_count": 7,
   "metadata": {
    "scrolled": true
   },
   "outputs": [
    {
     "data": {
      "text/plain": [
       "<tr class=\"athing\" id=\"23038637\">\n",
       "      <td align=\"right\" class=\"title\" valign=\"top\"><span class=\"rank\">1.</span></td>      <td class=\"votelinks\" valign=\"top\"><center><a href=\"vote?id=23038637&amp;how=up&amp;goto=news\" id=\"up_23038637\"><div class=\"votearrow\" title=\"upvote\"></div></a></center></td><td class=\"title\"><a class=\"storylink\" href=\"https://www.icann.org/news/blog/icann-board-withholds-consent-for-a-change-of-control-of-the-public-interest-registry-pir\">ICANN board withholds consent for a change of control of the .org registry</a><span class=\"sitebit comhead\"> (<a href=\"from?site=icann.org\"><span class=\"sitestr\">icann.org</span></a>)</span></td></tr>"
      ]
     },
     "execution_count": 7,
     "metadata": {},
     "output_type": "execute_result"
    }
   ],
   "source": [
    "# Find all articles\n",
    "summaries = soup.find_all(\"tr\", class_=\"athing\")\n",
    "summaries[0]"
   ]
  },
  {
   "cell_type": "code",
   "execution_count": 9,
   "metadata": {},
   "outputs": [
    {
     "data": {
      "text/plain": [
       "'ICANN board withholds consent for a change of control of the .org registry'"
      ]
     },
     "execution_count": 9,
     "metadata": {},
     "output_type": "execute_result"
    }
   ],
   "source": [
    "# Extract title\n",
    "summaries[0].find(\"a\", class_=\"storylink\").get_text().strip()"
   ]
  },
  {
   "cell_type": "code",
   "execution_count": 10,
   "metadata": {},
   "outputs": [
    {
     "name": "stdout",
     "output_type": "stream",
     "text": [
      "30 Article summaries found. Sample:\n",
      "ICANN board withholds consent for a change of control of the .org registry\n"
     ]
    }
   ],
   "source": [
    "# Find all articles, extract titles\n",
    "articles = []\n",
    "summaries = soup.find_all(\"tr\", class_=\"athing\")\n",
    "for summary in summaries:\n",
    "    title = summary.find(\"a\", class_=\"storylink\").get_text().strip()\n",
    "    articles.append((title))\n",
    "\n",
    "print(len(articles), \"Article summaries found. Sample:\")\n",
    "print(articles[0])"
   ]
  },
  {
   "cell_type": "markdown",
   "metadata": {
    "collapsed": true
   },
   "source": [
    "## Normalization"
   ]
  },
  {
   "cell_type": "markdown",
   "metadata": {},
   "source": [
    "### Case Normalization"
   ]
  },
  {
   "cell_type": "code",
   "execution_count": 11,
   "metadata": {},
   "outputs": [
    {
     "name": "stdout",
     "output_type": "stream",
     "text": [
      "The first time you see The Second Renaissance it may look boring. Look at it at least twice and definitely watch part 2. It will change your view of the matrix. Are the human people the ones who started the war ? Is AI a bad thing ?\n"
     ]
    }
   ],
   "source": [
    "# Sample text\n",
    "text = \"The first time you see The Second Renaissance it may look boring. Look at it at least twice and definitely watch part 2. It will change your view of the matrix. Are the human people the ones who started the war ? Is AI a bad thing ?\"\n",
    "print(text)"
   ]
  },
  {
   "cell_type": "code",
   "execution_count": 12,
   "metadata": {},
   "outputs": [
    {
     "name": "stdout",
     "output_type": "stream",
     "text": [
      "the first time you see the second renaissance it may look boring. look at it at least twice and definitely watch part 2. it will change your view of the matrix. are the human people the ones who started the war ? is ai a bad thing ?\n"
     ]
    }
   ],
   "source": [
    "# Convert to lowercase\n",
    "text = text.lower() \n",
    "print(text)"
   ]
  },
  {
   "cell_type": "markdown",
   "metadata": {},
   "source": [
    "### Punctuation Removal"
   ]
  },
  {
   "cell_type": "code",
   "execution_count": 13,
   "metadata": {},
   "outputs": [
    {
     "name": "stdout",
     "output_type": "stream",
     "text": [
      "the first time you see the second renaissance it may look boring  look at it at least twice and definitely watch part 2  it will change your view of the matrix  are the human people the ones who started the war   is ai a bad thing  \n"
     ]
    }
   ],
   "source": [
    "import re\n",
    "\n",
    "# Remove punctuation characters\n",
    "text = re.sub(r\"[^a-zA-Z0-9]\", \" \", text) \n",
    "print(text)"
   ]
  },
  {
   "cell_type": "markdown",
   "metadata": {},
   "source": [
    "## Tokenization"
   ]
  },
  {
   "cell_type": "code",
   "execution_count": 14,
   "metadata": {},
   "outputs": [
    {
     "name": "stdout",
     "output_type": "stream",
     "text": [
      "['the', 'first', 'time', 'you', 'see', 'the', 'second', 'renaissance', 'it', 'may', 'look', 'boring', 'look', 'at', 'it', 'at', 'least', 'twice', 'and', 'definitely', 'watch', 'part', '2', 'it', 'will', 'change', 'your', 'view', 'of', 'the', 'matrix', 'are', 'the', 'human', 'people', 'the', 'ones', 'who', 'started', 'the', 'war', 'is', 'ai', 'a', 'bad', 'thing']\n"
     ]
    }
   ],
   "source": [
    "# Split text into tokens (words)\n",
    "words = text.split()\n",
    "print(words)"
   ]
  },
  {
   "cell_type": "markdown",
   "metadata": {},
   "source": [
    "### NLTK: Natural Language ToolKit"
   ]
  },
  {
   "cell_type": "code",
   "execution_count": 15,
   "metadata": {},
   "outputs": [],
   "source": [
    "import os\n",
    "import nltk\n",
    "nltk.data.path.append(os.path.join(os.getcwd(), \"nltk_data\"))"
   ]
  },
  {
   "cell_type": "code",
   "execution_count": 16,
   "metadata": {},
   "outputs": [
    {
     "name": "stdout",
     "output_type": "stream",
     "text": [
      "Dr. Smith graduated from the University of Washington. He later started an analytics firm called Lux, which catered to enterprise customers.\n"
     ]
    }
   ],
   "source": [
    "# Another sample text\n",
    "text = \"Dr. Smith graduated from the University of Washington. He later started an analytics firm called Lux, which catered to enterprise customers.\"\n",
    "print(text)"
   ]
  },
  {
   "cell_type": "code",
   "execution_count": 17,
   "metadata": {},
   "outputs": [
    {
     "name": "stdout",
     "output_type": "stream",
     "text": [
      "['Dr.', 'Smith', 'graduated', 'from', 'the', 'University', 'of', 'Washington', '.', 'He', 'later', 'started', 'an', 'analytics', 'firm', 'called', 'Lux', ',', 'which', 'catered', 'to', 'enterprise', 'customers', '.']\n"
     ]
    }
   ],
   "source": [
    "from nltk.tokenize import word_tokenize\n",
    "\n",
    "# Split text into words using NLTK\n",
    "words = word_tokenize(text)\n",
    "print(words)"
   ]
  },
  {
   "cell_type": "code",
   "execution_count": 18,
   "metadata": {},
   "outputs": [
    {
     "name": "stdout",
     "output_type": "stream",
     "text": [
      "['Dr. Smith graduated from the University of Washington.', 'He later started an analytics firm called Lux, which catered to enterprise customers.']\n"
     ]
    }
   ],
   "source": [
    "from nltk.tokenize import sent_tokenize\n",
    "\n",
    "# Split text into sentences\n",
    "sentences = sent_tokenize(text)\n",
    "print(sentences)"
   ]
  },
  {
   "cell_type": "code",
   "execution_count": 19,
   "metadata": {},
   "outputs": [
    {
     "name": "stdout",
     "output_type": "stream",
     "text": [
      "['i', 'me', 'my', 'myself', 'we', 'our', 'ours', 'ourselves', 'you', \"you're\", \"you've\", \"you'll\", \"you'd\", 'your', 'yours', 'yourself', 'yourselves', 'he', 'him', 'his', 'himself', 'she', \"she's\", 'her', 'hers', 'herself', 'it', \"it's\", 'its', 'itself', 'they', 'them', 'their', 'theirs', 'themselves', 'what', 'which', 'who', 'whom', 'this', 'that', \"that'll\", 'these', 'those', 'am', 'is', 'are', 'was', 'were', 'be', 'been', 'being', 'have', 'has', 'had', 'having', 'do', 'does', 'did', 'doing', 'a', 'an', 'the', 'and', 'but', 'if', 'or', 'because', 'as', 'until', 'while', 'of', 'at', 'by', 'for', 'with', 'about', 'against', 'between', 'into', 'through', 'during', 'before', 'after', 'above', 'below', 'to', 'from', 'up', 'down', 'in', 'out', 'on', 'off', 'over', 'under', 'again', 'further', 'then', 'once', 'here', 'there', 'when', 'where', 'why', 'how', 'all', 'any', 'both', 'each', 'few', 'more', 'most', 'other', 'some', 'such', 'no', 'nor', 'not', 'only', 'own', 'same', 'so', 'than', 'too', 'very', 's', 't', 'can', 'will', 'just', 'don', \"don't\", 'should', \"should've\", 'now', 'd', 'll', 'm', 'o', 're', 've', 'y', 'ain', 'aren', \"aren't\", 'couldn', \"couldn't\", 'didn', \"didn't\", 'doesn', \"doesn't\", 'hadn', \"hadn't\", 'hasn', \"hasn't\", 'haven', \"haven't\", 'isn', \"isn't\", 'ma', 'mightn', \"mightn't\", 'mustn', \"mustn't\", 'needn', \"needn't\", 'shan', \"shan't\", 'shouldn', \"shouldn't\", 'wasn', \"wasn't\", 'weren', \"weren't\", 'won', \"won't\", 'wouldn', \"wouldn't\"]\n"
     ]
    }
   ],
   "source": [
    "# List stop words\n",
    "from nltk.corpus import stopwords\n",
    "print(stopwords.words(\"english\"))"
   ]
  },
  {
   "cell_type": "code",
   "execution_count": 20,
   "metadata": {},
   "outputs": [
    {
     "name": "stdout",
     "output_type": "stream",
     "text": [
      "['the', 'first', 'time', 'you', 'see', 'the', 'second', 'renaissance', 'it', 'may', 'look', 'boring', 'look', 'at', 'it', 'at', 'least', 'twice', 'and', 'definitely', 'watch', 'part', '2', 'it', 'will', 'change', 'your', 'view', 'of', 'the', 'matrix', 'are', 'the', 'human', 'people', 'the', 'ones', 'who', 'started', 'the', 'war', 'is', 'ai', 'a', 'bad', 'thing']\n"
     ]
    }
   ],
   "source": [
    "# Reset text\n",
    "text = \"The first time you see The Second Renaissance it may look boring. Look at it at least twice and definitely watch part 2. It will change your view of the matrix. Are the human people the ones who started the war ? Is AI a bad thing ?\"\n",
    "\n",
    "# Normalize it\n",
    "text = re.sub(r\"[^a-zA-Z0-9]\", \" \", text.lower())\n",
    "\n",
    "# Tokenize it\n",
    "words = text.split()\n",
    "print(words)"
   ]
  },
  {
   "cell_type": "code",
   "execution_count": 21,
   "metadata": {},
   "outputs": [
    {
     "name": "stdout",
     "output_type": "stream",
     "text": [
      "['first', 'time', 'see', 'second', 'renaissance', 'may', 'look', 'boring', 'look', 'least', 'twice', 'definitely', 'watch', 'part', '2', 'change', 'view', 'matrix', 'human', 'people', 'ones', 'started', 'war', 'ai', 'bad', 'thing']\n"
     ]
    }
   ],
   "source": [
    "# Remove stop words\n",
    "words = [w for w in words if w not in stopwords.words(\"english\")]\n",
    "print(words)"
   ]
  },
  {
   "cell_type": "markdown",
   "metadata": {},
   "source": [
    "### Sentence Parsing"
   ]
  },
  {
   "cell_type": "code",
   "execution_count": 22,
   "metadata": {},
   "outputs": [
    {
     "name": "stdout",
     "output_type": "stream",
     "text": [
      "(S\n",
      "  (NP I)\n",
      "  (VP\n",
      "    (VP (V shot) (NP (Det an) (N elephant)))\n",
      "    (PP (P in) (NP (Det my) (N pajamas)))))\n",
      "(S\n",
      "  (NP I)\n",
      "  (VP\n",
      "    (V shot)\n",
      "    (NP (Det an) (N elephant) (PP (P in) (NP (Det my) (N pajamas))))))\n"
     ]
    }
   ],
   "source": [
    "import nltk\n",
    "\n",
    "# Define a custom grammar\n",
    "my_grammar = nltk.CFG.fromstring(\"\"\"\n",
    "S -> NP VP\n",
    "PP -> P NP\n",
    "NP -> Det N | Det N PP | 'I'\n",
    "VP -> V NP | VP PP\n",
    "Det -> 'an' | 'my'\n",
    "N -> 'elephant' | 'pajamas'\n",
    "V -> 'shot'\n",
    "P -> 'in'\n",
    "\"\"\")\n",
    "parser = nltk.ChartParser(my_grammar)\n",
    "\n",
    "# Parse a sentence\n",
    "sentence = word_tokenize(\"I shot an elephant in my pajamas\")\n",
    "for tree in parser.parse(sentence):\n",
    "    print(tree)"
   ]
  },
  {
   "cell_type": "markdown",
   "metadata": {},
   "source": [
    "## Stemming & Lemmatization\n",
    "\n",
    "### Stemming"
   ]
  },
  {
   "cell_type": "code",
   "execution_count": 23,
   "metadata": {},
   "outputs": [
    {
     "name": "stdout",
     "output_type": "stream",
     "text": [
      "['first', 'time', 'see', 'second', 'renaiss', 'may', 'look', 'bore', 'look', 'least', 'twice', 'definit', 'watch', 'part', '2', 'chang', 'view', 'matrix', 'human', 'peopl', 'one', 'start', 'war', 'ai', 'bad', 'thing']\n"
     ]
    }
   ],
   "source": [
    "from nltk.stem.porter import PorterStemmer\n",
    "\n",
    "# Reduce words to their stems\n",
    "stemmed = [PorterStemmer().stem(w) for w in words]\n",
    "print(stemmed)"
   ]
  },
  {
   "cell_type": "markdown",
   "metadata": {},
   "source": [
    "### Lemmatization"
   ]
  },
  {
   "cell_type": "code",
   "execution_count": 24,
   "metadata": {},
   "outputs": [
    {
     "name": "stdout",
     "output_type": "stream",
     "text": [
      "['first', 'time', 'see', 'second', 'renaissance', 'may', 'look', 'boring', 'look', 'least', 'twice', 'definitely', 'watch', 'part', '2', 'change', 'view', 'matrix', 'human', 'people', 'one', 'started', 'war', 'ai', 'bad', 'thing']\n"
     ]
    }
   ],
   "source": [
    "from nltk.stem.wordnet import WordNetLemmatizer\n",
    "\n",
    "# Reduce words to their root form\n",
    "lemmed = [WordNetLemmatizer().lemmatize(w) for w in words]\n",
    "print(lemmed)"
   ]
  },
  {
   "cell_type": "code",
   "execution_count": 25,
   "metadata": {},
   "outputs": [
    {
     "name": "stdout",
     "output_type": "stream",
     "text": [
      "['first', 'time', 'see', 'second', 'renaissance', 'may', 'look', 'bore', 'look', 'least', 'twice', 'definitely', 'watch', 'part', '2', 'change', 'view', 'matrix', 'human', 'people', 'one', 'start', 'war', 'ai', 'bad', 'thing']\n"
     ]
    }
   ],
   "source": [
    "# Lemmatize verbs by specifying pos\n",
    "lemmed = [WordNetLemmatizer().lemmatize(w, pos='v') for w in lemmed]\n",
    "print(lemmed)"
   ]
  },
  {
   "cell_type": "code",
   "execution_count": null,
   "metadata": {},
   "outputs": [],
   "source": []
  }
 ],
 "metadata": {
  "kernelspec": {
   "display_name": "Python 3",
   "language": "python",
   "name": "python3"
  },
  "language_info": {
   "codemirror_mode": {
    "name": "ipython",
    "version": 3
   },
   "file_extension": ".py",
   "mimetype": "text/x-python",
   "name": "python",
   "nbconvert_exporter": "python",
   "pygments_lexer": "ipython3",
   "version": "3.6.3"
  }
 },
 "nbformat": 4,
 "nbformat_minor": 2
}

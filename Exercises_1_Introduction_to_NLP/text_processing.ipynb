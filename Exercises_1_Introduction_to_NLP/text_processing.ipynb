{
 "cells": [
  {
   "cell_type": "markdown",
   "metadata": {},
   "source": [
    "# Text Processing\n",
    "\n",
    "## Capturing Text Data\n",
    "\n",
    "### Plain Text"
   ]
  },
  {
   "cell_type": "code",
   "execution_count": 1,
   "metadata": {},
   "outputs": [
    {
     "name": "stdout",
     "output_type": "stream",
     "text": [
      "Hieroglyphic writing dates from c. 3000 BC, and is composed of hundreds of symbols. A hieroglyph can represent a word, a sound, or a silent determinative; and the same symbol can serve different purposes in different contexts. Hieroglyphs were a formal script, used on stone monuments and in tombs, that could be as detailed as individual works of art.\n",
      "\n"
     ]
    }
   ],
   "source": [
    "import os\n",
    "\n",
    "# Read in a plain text file\n",
    "with open(os.path.join(\"data\", \"hieroglyph.txt\"), \"r\") as f:\n",
    "    text = f.read()\n",
    "    print(text)"
   ]
  },
  {
   "cell_type": "markdown",
   "metadata": {},
   "source": [
    "### Tabular Data"
   ]
  },
  {
   "cell_type": "code",
   "execution_count": 2,
   "metadata": {
    "scrolled": true
   },
   "outputs": [
    {
     "data": {
      "text/html": [
       "<div>\n",
       "<style scoped>\n",
       "    .dataframe tbody tr th:only-of-type {\n",
       "        vertical-align: middle;\n",
       "    }\n",
       "\n",
       "    .dataframe tbody tr th {\n",
       "        vertical-align: top;\n",
       "    }\n",
       "\n",
       "    .dataframe thead th {\n",
       "        text-align: right;\n",
       "    }\n",
       "</style>\n",
       "<table border=\"1\" class=\"dataframe\">\n",
       "  <thead>\n",
       "    <tr style=\"text-align: right;\">\n",
       "      <th></th>\n",
       "      <th>publisher</th>\n",
       "      <th>title</th>\n",
       "    </tr>\n",
       "  </thead>\n",
       "  <tbody>\n",
       "    <tr>\n",
       "      <th>0</th>\n",
       "      <td>Livemint</td>\n",
       "      <td>fed's charles plosser sees high bar for change...</td>\n",
       "    </tr>\n",
       "    <tr>\n",
       "      <th>1</th>\n",
       "      <td>IFA Magazine</td>\n",
       "      <td>us open: stocks fall after fed official hints ...</td>\n",
       "    </tr>\n",
       "    <tr>\n",
       "      <th>2</th>\n",
       "      <td>IFA Magazine</td>\n",
       "      <td>fed risks falling 'behind the curve', charles ...</td>\n",
       "    </tr>\n",
       "    <tr>\n",
       "      <th>3</th>\n",
       "      <td>Moneynews</td>\n",
       "      <td>fed's plosser: nasty weather has curbed job gr...</td>\n",
       "    </tr>\n",
       "    <tr>\n",
       "      <th>4</th>\n",
       "      <td>NASDAQ</td>\n",
       "      <td>plosser: fed may have to accelerate tapering pace</td>\n",
       "    </tr>\n",
       "  </tbody>\n",
       "</table>\n",
       "</div>"
      ],
      "text/plain": [
       "      publisher                                              title\n",
       "0      Livemint  fed's charles plosser sees high bar for change...\n",
       "1  IFA Magazine  us open: stocks fall after fed official hints ...\n",
       "2  IFA Magazine  fed risks falling 'behind the curve', charles ...\n",
       "3     Moneynews  fed's plosser: nasty weather has curbed job gr...\n",
       "4        NASDAQ  plosser: fed may have to accelerate tapering pace"
      ]
     },
     "execution_count": 2,
     "metadata": {},
     "output_type": "execute_result"
    }
   ],
   "source": [
    "import pandas as pd\n",
    "\n",
    "# Extract text column from a dataframe\n",
    "df = pd.read_csv(os.path.join(\"data\", \"news.csv\"))\n",
    "df.head()[['publisher', 'title']]\n",
    "\n",
    "# Convert text column to lowercase\n",
    "df['title'] = df['title'].str.lower()\n",
    "df.head()[['publisher', 'title']]"
   ]
  },
  {
   "cell_type": "markdown",
   "metadata": {},
   "source": [
    "### Online Resource"
   ]
  },
  {
   "cell_type": "code",
   "execution_count": 3,
   "metadata": {
    "scrolled": true
   },
   "outputs": [
    {
     "name": "stdout",
     "output_type": "stream",
     "text": [
      "{\n",
      "    \"success\": {\n",
      "        \"total\": 1\n",
      "    },\n",
      "    \"contents\": {\n",
      "        \"quotes\": [\n",
      "            {\n",
      "                \"quote\": \"It isn't what you have, or who you are, or where you are, or what you are doing that makes you happy or unhappy. It is what you think about.\",\n",
      "                \"length\": \"140\",\n",
      "                \"author\": \"Dale Carnegie\",\n",
      "                \"tags\": [\n",
      "                    \"happiness\",\n",
      "                    \"inspire\",\n",
      "                    \"thought\"\n",
      "                ],\n",
      "                \"category\": \"inspire\",\n",
      "                \"language\": \"en\",\n",
      "                \"date\": \"2020-05-08\",\n",
      "                \"permalink\": \"https://theysaidso.com/quote/dale-carnegie-it-isnt-what-you-have-or-who-you-are-or-where-you-are-or-what-you\",\n",
      "                \"id\": \"2CNTJ3GR8Gx7Bi6UA0qtqgeF\",\n",
      "                \"background\": \"https://theysaidso.com/img/qod/qod-inspire.jpg\",\n",
      "                \"title\": \"Inspiring Quote of the day\"\n",
      "            }\n",
      "        ]\n",
      "    },\n",
      "    \"baseurl\": \"https://theysaidso.com\",\n",
      "    \"copyright\": {\n",
      "        \"year\": 2022,\n",
      "        \"url\": \"https://theysaidso.com\"\n",
      "    }\n",
      "}\n",
      "It isn't what you have, or who you are, or where you are, or what you are doing that makes you happy or unhappy. It is what you think about. \n",
      "-- Dale Carnegie\n"
     ]
    }
   ],
   "source": [
    "import requests\n",
    "import json\n",
    "\n",
    "# Fetch data from a REST API\n",
    "r = requests.get(\n",
    "    \"https://quotes.rest/qod.json\")\n",
    "res = r.json()\n",
    "print(json.dumps(res, indent=4))\n",
    "\n",
    "# Extract relevant object and field\n",
    "q = res[\"contents\"][\"quotes\"][0]\n",
    "print(q[\"quote\"], \"\\n--\", q[\"author\"])"
   ]
  },
  {
   "cell_type": "markdown",
   "metadata": {},
   "source": [
    "## Cleaning"
   ]
  },
  {
   "cell_type": "code",
   "execution_count": 4,
   "metadata": {
    "scrolled": true
   },
   "outputs": [
    {
     "name": "stdout",
     "output_type": "stream",
     "text": [
      "<html lang=\"en\" op=\"news\"><head><meta name=\"referrer\" content=\"origin\"><meta name=\"viewport\" content=\"width=device-width, initial-scale=1.0\"><link rel=\"stylesheet\" type=\"text/css\" href=\"news.css?aEQYbZXPFxMfgdP0ENCn\">\n",
      "        <link rel=\"shortcut icon\" href=\"favicon.ico\">\n",
      "          <link rel=\"alternate\" type=\"application/rss+xml\" title=\"RSS\" href=\"rss\">\n",
      "        <title>Hacker News</title></head><body><center><table id=\"hnmain\" border=\"0\" cellpadding=\"0\" cellspacing=\"0\" width=\"85%\" bgcolor=\"#f6f6ef\">\n",
      "        <tr><td bgcolor=\"#ff6600\"><table border=\"0\" cellpadding=\"0\" cellspacing=\"0\" width=\"100%\" style=\"padding:2px\"><tr><td style=\"width:18px;padding-right:4px\"><a href=\"https://news.ycombinator.com\"><img src=\"y18.gif\" width=\"18\" height=\"18\" style=\"border:1px white solid;\"></a></td>\n",
      "                  <td style=\"line-height:12pt; height:10px;\"><span class=\"pagetop\"><b class=\"hnname\"><a href=\"news\">Hacker News</a></b>\n",
      "              <a href=\"newest\">new</a> | <a href=\"front\">past</a> | <a href=\"newcomments\">comments</a> | <a href=\"ask\">ask</a> | <a href=\"show\">show</a> | <a href=\"jobs\">jobs</a> | <a href=\"submit\">submit</a>            </span></td><td style=\"text-align:right;padding-right:4px;\"><span class=\"pagetop\">\n",
      "                              <a href=\"login?goto=news\">login</a>\n",
      "                          </span></td>\n",
      "              </tr></table></td></tr>\n",
      "<tr id=\"pagespace\" title=\"\" style=\"height:10px\"></tr><tr><td><table border=\"0\" cellpadding=\"0\" cellspacing=\"0\" class=\"itemlist\">\n",
      "              <tr class='athing' id='23109997'>\n",
      "      <td align=\"right\" valign=\"top\" class=\"title\"><span class=\"rank\">1.</span></td>      <td valign=\"top\" class=\"votelinks\"><center><a id='up_23109997' href='vote?id=23109997&amp;how=up&amp;goto=news'><div class='votearrow' title='upvote'></div></a></center></td><td class=\"title\"><a href=\"https://citizenlab.ca/2020/05/we-chat-they-watch/\" class=\"storylink\">We Chat, They Watch</a><span class=\"sitebit comhead\"> (<a href=\"from?site=citizenlab.ca\"><span class=\"sitestr\">citizenlab.ca</span></a>)</span></td></tr><tr><td colspan=\"2\"></td><td class=\"subtext\">\n",
      "        <span class=\"score\" id=\"score_23109997\">838 points</span> by <a href=\"user?id=hardmaru\" class=\"hnuser\">hardmaru</a> <span class=\"age\"><a href=\"item?id=23109997\">8 hours ago</a></span> <span id=\"unv_23109997\"></span> | <a href=\"hide?id=23109997&amp;goto=news\">hide</a> | <a href=\"item?id=23109997\">321&nbsp;comments</a>              </td></tr>\n",
      "      <tr class=\"spacer\" style=\"height:5px\"></tr>\n",
      "                <tr class='athing' id='23111109'>\n",
      "      <td align=\"right\" valign=\"top\" class=\"title\"><span class=\"rank\">2.</span></td>      <td valign=\"top\" class=\"votelinks\"><center><a id='up_23111109' href='vote?id=23111109&amp;how=up&amp;goto=news'><div class='votearrow' title='upvote'></div></a></center></td><td class=\"title\"><a href=\"https://baekdal.com/thoughts/the-original-cookie-specification-from-1997-was-gdpr-compliant/\" class=\"storylink\">The Original Cookie specification from 1997 was GDPR compliant (2019)</a><span class=\"sitebit comhead\"> (<a href=\"from?site=baekdal.com\"><span class=\"sitestr\">baekdal.com</span></a>)</span></td></tr><tr><td colspan=\"2\"></td><td class=\"subtext\">\n",
      "        <span class=\"score\" id=\"score_23111109\">179 points</span> by <a href=\"user?id=todsacerdoti\" class=\"hnuser\">todsacerdoti</a> <span class=\"age\"><a href=\"item?id=23111109\">5 hours ago</a></span> <span id=\"unv_23111109\"></span> | <a href=\"hide?id=23111109&amp;goto=news\">hide</a> | <a href=\"item?id=23111109\">51&nbsp;comments</a>              </td></tr>\n",
      "      <tr class=\"spacer\" style=\"height:5px\"></tr>\n",
      "                <tr class='athing' id='23101869'>\n",
      "      <td align=\"right\" valign=\"top\" class=\"title\"><span class=\"rank\">3.</span></td>      <td valign=\"top\" class=\"votelinks\"><center><a id='up_23101869' href='vote?id=23101869&amp;how=up&amp;goto=news'><div class='votearrow' title='upvote'></div></a></center></td><td class=\"title\"><a href=\"https://beepb00p.xyz/hpi.html\" class=\"storylink\">Show HN: Interface for all digital aspects of my life</a><span class=\"sitebit comhead\"> (<a href=\"from?site=beepb00p.xyz\"><span class=\"sitestr\">beepb00p.xyz</span></a>)</span></td></tr><tr><td colspan=\"2\"></td><td class=\"subtext\">\n",
      "        <span class=\"score\" id=\"score_23101869\">78 points</span> by <a href=\"user?id=karlicoss\" class=\"hnuser\">karlicoss</a> <span class=\"age\"><a href=\"item?id=23101869\">3 hours ago</a></span> <span id=\"unv_23101869\"></span> | <a href=\"hide?id=23101869&amp;goto=news\">hide</a> | <a href=\"item?id=23101869\">8&nbsp;comments</a>              </td></tr>\n",
      "      <tr class=\"spacer\" style=\"height:5px\"></tr>\n",
      "                <tr class='athing' id='23112277'>\n",
      "      <td align=\"right\" valign=\"top\" class=\"title\"><span class=\"rank\">4.</span></td>      <td valign=\"top\" class=\"votelinks\"><center><a id='up_23112277' href='vote?id=23112277&amp;how=up&amp;goto=news'><div class='votearrow' title='upvote'></div></a></center></td><td class=\"title\"><a href=\"https://www.virology.ws/2020/05/07/there-is-one-and-only-one-strain-of-sars-cov-2/\" class=\"storylink\">There is one, and only one strain of SARS-CoV-2</a><span class=\"sitebit comhead\"> (<a href=\"from?site=virology.ws\"><span class=\"sitestr\">virology.ws</span></a>)</span></td></tr><tr><td colspan=\"2\"></td><td class=\"subtext\">\n",
      "        <span class=\"score\" id=\"score_23112277\">80 points</span> by <a href=\"user?id=aberoham\" class=\"hnuser\">aberoham</a> <span class=\"age\"><a href=\"item?id=23112277\">1 hour ago</a></span> <span id=\"unv_23112277\"></span> | <a href=\"hide?id=23112277&amp;goto=news\">hide</a> | <a href=\"item?id=23112277\">22&nbsp;comments</a>              </td></tr>\n",
      "      <tr class=\"spacer\" style=\"height:5px\"></tr>\n",
      "                <tr class='athing' id='23107564'>\n",
      "      <td align=\"right\" valign=\"top\" class=\"title\"><span class=\"rank\">5.</span></td>      <td valign=\"top\" class=\"votelinks\"><center><a id='up_23107564' href='vote?id=23107564&amp;how=up&amp;goto=news'><div class='votearrow' title='upvote'></div></a></center></td><td class=\"title\"><a href=\"https://matrix.org/blog/2020/05/06/cross-signing-and-end-to-end-encryption-by-default-is-here\" class=\"storylink\">Cross-signing and end-to-end encryption by default</a><span class=\"sitebit comhead\"> (<a href=\"from?site=matrix.org\"><span class=\"sitestr\">matrix.org</span></a>)</span></td></tr><tr><td colspan=\"2\"></td><td class=\"subtext\">\n",
      "        <span class=\"score\" id=\"score_23107564\">520 points</span> by <a href=\"user?id=thanksforfish\" class=\"hnuser\">thanksforfish</a> <span class=\"age\"><a href=\"item?id=23107564\">13 hours ago</a></span> <span id=\"unv_23107564\"></span> | <a href=\"hide?id=23107564&amp;goto=news\">hide</a> | <a href=\"item?id=23107564\">143&nbsp;comments</a>              </td></tr>\n",
      "      <tr class=\"spacer\" style=\"height:5px\"></tr>\n",
      "                <tr class='athing' id='23111981'>\n",
      "      <td align=\"right\" valign=\"top\" class=\"title\"><span class=\"rank\">6.</span></td>      <td valign=\"top\" class=\"votelinks\"><center><a id='up_23111981' href='vote?id=23111981&amp;how=up&amp;goto=news'><div class='votearrow' title='upvote'></div></a></center></td><td class=\"title\"><a href=\"https://pcsx2.net/292-progress-report-q3-2019-to-q1-2020.html\" class=\"storylink\">PCSX2 PS2 Emulator: Progress report Q3 2019 to Q1 2020</a><span class=\"sitebit comhead\"> (<a href=\"from?site=pcsx2.net\"><span class=\"sitestr\">pcsx2.net</span></a>)</span></td></tr><tr><td colspan=\"2\"></td><td class=\"subtext\">\n",
      "        <span class=\"score\" id=\"score_23111981\">44 points</span> by <a href=\"user?id=boramalper\" class=\"hnuser\">boramalper</a> <span class=\"age\"><a href=\"item?id=23111981\">2 hours ago</a></span> <span id=\"unv_23111981\"></span> | <a href=\"hide?id=23111981&amp;goto=news\">hide</a> | <a href=\"item?id=23111981\">13&nbsp;comments</a>              </td></tr>\n",
      "      <tr class=\"spacer\" style=\"height:5px\"></tr>\n",
      "                <tr class='athing' id='23101697'>\n",
      "      <td align=\"right\" valign=\"top\" class=\"title\"><span class=\"rank\">7.</span></td>      <td valign=\"top\" class=\"votelinks\"><center><a id='up_23101697' href='vote?id=23101697&amp;how=up&amp;goto=news'><div class='votearrow' title='upvote'></div></a></center></td><td class=\"title\"><a href=\"https://cheapskatesguide.org/articles/low-bandwidth-hosting-tips.html\" class=\"storylink\">How to Serve over 100K Web Pages a Day on a Slower Home Internet Connection</a><span class=\"sitebit comhead\"> (<a href=\"from?site=cheapskatesguide.org\"><span class=\"sitestr\">cheapskatesguide.org</span></a>)</span></td></tr><tr><td colspan=\"2\"></td><td class=\"subtext\">\n",
      "        <span class=\"score\" id=\"score_23101697\">72 points</span> by <a href=\"user?id=sT370ma2\" class=\"hnuser\">sT370ma2</a> <span class=\"age\"><a href=\"item?id=23101697\">4 hours ago</a></span> <span id=\"unv_23101697\"></span> | <a href=\"hide?id=23101697&amp;goto=news\">hide</a> | <a href=\"item?id=23101697\">23&nbsp;comments</a>              </td></tr>\n",
      "      <tr class=\"spacer\" style=\"height:5px\"></tr>\n",
      "                <tr class='athing' id='23107123'>\n",
      "      <td align=\"right\" valign=\"top\" class=\"title\"><span class=\"rank\">8.</span></td>      <td valign=\"top\" class=\"votelinks\"><center><a id='up_23107123' href='vote?id=23107123&amp;how=up&amp;goto=news'><div class='votearrow' title='upvote'></div></a></center></td><td class=\"title\"><a href=\"https://lwn.net/SubscriberLink/819452/1480c3a59d3d9093/\" class=\"storylink\">Making Emacs Popular Again</a><span class=\"sitebit comhead\"> (<a href=\"from?site=lwn.net\"><span class=\"sitestr\">lwn.net</span></a>)</span></td></tr><tr><td colspan=\"2\"></td><td class=\"subtext\">\n",
      "        <span class=\"score\" id=\"score_23107123\">411 points</span> by <a href=\"user?id=todsacerdoti\" class=\"hnuser\">todsacerdoti</a> <span class=\"age\"><a href=\"item?id=23107123\">13 hours ago</a></span> <span id=\"unv_23107123\"></span> | <a href=\"hide?id=23107123&amp;goto=news\">hide</a> | <a href=\"item?id=23107123\">549&nbsp;comments</a>              </td></tr>\n",
      "      <tr class=\"spacer\" style=\"height:5px\"></tr>\n",
      "                <tr class='athing' id='23107945'>\n",
      "      <td align=\"right\" valign=\"top\" class=\"title\"><span class=\"rank\">9.</span></td>      <td valign=\"top\" class=\"votelinks\"><center><a id='up_23107945' href='vote?id=23107945&amp;how=up&amp;goto=news'><div class='votearrow' title='upvote'></div></a></center></td><td class=\"title\"><a href=\"https://rachelbythebay.com/w/2020/05/07/serv/\" class=\"storylink\">Old box, dumb code, few thousand connections, no big deal</a><span class=\"sitebit comhead\"> (<a href=\"from?site=rachelbythebay.com\"><span class=\"sitestr\">rachelbythebay.com</span></a>)</span></td></tr><tr><td colspan=\"2\"></td><td class=\"subtext\">\n",
      "        <span class=\"score\" id=\"score_23107945\">338 points</span> by <a href=\"user?id=ingve\" class=\"hnuser\">ingve</a> <span class=\"age\"><a href=\"item?id=23107945\">12 hours ago</a></span> <span id=\"unv_23107945\"></span> | <a href=\"hide?id=23107945&amp;goto=news\">hide</a> | <a href=\"item?id=23107945\">193&nbsp;comments</a>              </td></tr>\n",
      "      <tr class=\"spacer\" style=\"height:5px\"></tr>\n",
      "                <tr class='athing' id='23107553'>\n",
      "      <td align=\"right\" valign=\"top\" class=\"title\"><span class=\"rank\">10.</span></td>      <td valign=\"top\" class=\"votelinks\"><center><a id='up_23107553' href='vote?id=23107553&amp;how=up&amp;goto=news'><div class='votearrow' title='upvote'></div></a></center></td><td class=\"title\"><a href=\"https://github.com/NHSX\" class=\"storylink\">NHS open-sources contract tracing iOS and Android apps</a><span class=\"sitebit comhead\"> (<a href=\"from?site=github.com\"><span class=\"sitestr\">github.com</span></a>)</span></td></tr><tr><td colspan=\"2\"></td><td class=\"subtext\">\n",
      "        <span class=\"score\" id=\"score_23107553\">272 points</span> by <a href=\"user?id=orangepanda\" class=\"hnuser\">orangepanda</a> <span class=\"age\"><a href=\"item?id=23107553\">13 hours ago</a></span> <span id=\"unv_23107553\"></span> | <a href=\"hide?id=23107553&amp;goto=news\">hide</a> | <a href=\"item?id=23107553\">101&nbsp;comments</a>              </td></tr>\n",
      "      <tr class=\"spacer\" style=\"height:5px\"></tr>\n",
      "                <tr class='athing' id='23112056'>\n",
      "      <td align=\"right\" valign=\"top\" class=\"title\"><span class=\"rank\">11.</span></td>      <td valign=\"top\" class=\"votelinks\"><center><a id='up_23112056' href='vote?id=23112056&amp;how=up&amp;goto=news'><div class='votearrow' title='upvote'></div></a></center></td><td class=\"title\"><a href=\"http://fabiensanglard.net/ilike/index.html\" class=\"storylink\">0xF Rules</a><span class=\"sitebit comhead\"> (<a href=\"from?site=fabiensanglard.net\"><span class=\"sitestr\">fabiensanglard.net</span></a>)</span></td></tr><tr><td colspan=\"2\"></td><td class=\"subtext\">\n",
      "        <span class=\"score\" id=\"score_23112056\">25 points</span> by <a href=\"user?id=ingve\" class=\"hnuser\">ingve</a> <span class=\"age\"><a href=\"item?id=23112056\">2 hours ago</a></span> <span id=\"unv_23112056\"></span> | <a href=\"hide?id=23112056&amp;goto=news\">hide</a> | <a href=\"item?id=23112056\">8&nbsp;comments</a>              </td></tr>\n",
      "      <tr class=\"spacer\" style=\"height:5px\"></tr>\n",
      "                <tr class='athing' id='23102430'>\n",
      "      <td align=\"right\" valign=\"top\" class=\"title\"><span class=\"rank\">12.</span></td>      <td valign=\"top\" class=\"votelinks\"><center><a id='up_23102430' href='vote?id=23102430&amp;how=up&amp;goto=news'><div class='votearrow' title='upvote'></div></a></center></td><td class=\"title\"><a href=\"https://keybase.io/blog/keybase-joins-zoom\" class=\"storylink\">Zoom Acquires Keybase</a><span class=\"sitebit comhead\"> (<a href=\"from?site=keybase.io\"><span class=\"sitestr\">keybase.io</span></a>)</span></td></tr><tr><td colspan=\"2\"></td><td class=\"subtext\">\n",
      "        <span class=\"score\" id=\"score_23102430\">1682 points</span> by <a href=\"user?id=vikram7\" class=\"hnuser\">vikram7</a> <span class=\"age\"><a href=\"item?id=23102430\">20 hours ago</a></span> <span id=\"unv_23102430\"></span> | <a href=\"hide?id=23102430&amp;goto=news\">hide</a> | <a href=\"item?id=23102430\">654&nbsp;comments</a>              </td></tr>\n",
      "      <tr class=\"spacer\" style=\"height:5px\"></tr>\n",
      "                <tr class='athing' id='23108626'>\n",
      "      <td align=\"right\" valign=\"top\" class=\"title\"><span class=\"rank\">13.</span></td>      <td valign=\"top\" class=\"votelinks\"><center><a id='up_23108626' href='vote?id=23108626&amp;how=up&amp;goto=news'><div class='votearrow' title='upvote'></div></a></center></td><td class=\"title\"><a href=\"https://github.com/MITDDC/zork\" class=\"storylink\">Zork source code, 1977</a><span class=\"sitebit comhead\"> (<a href=\"from?site=github.com\"><span class=\"sitestr\">github.com</span></a>)</span></td></tr><tr><td colspan=\"2\"></td><td class=\"subtext\">\n",
      "        <span class=\"score\" id=\"score_23108626\">157 points</span> by <a href=\"user?id=braythwayt\" class=\"hnuser\">braythwayt</a> <span class=\"age\"><a href=\"item?id=23108626\">11 hours ago</a></span> <span id=\"unv_23108626\"></span> | <a href=\"hide?id=23108626&amp;goto=news\">hide</a> | <a href=\"item?id=23108626\">54&nbsp;comments</a>              </td></tr>\n",
      "      <tr class=\"spacer\" style=\"height:5px\"></tr>\n",
      "                <tr class='athing' id='23111523'>\n",
      "      <td align=\"right\" valign=\"top\" class=\"title\"><span class=\"rank\">14.</span></td>      <td valign=\"top\" class=\"votelinks\"><center><a id='up_23111523' href='vote?id=23111523&amp;how=up&amp;goto=news'><div class='votearrow' title='upvote'></div></a></center></td><td class=\"title\"><a href=\"https://stackoverflow.blog/2020/05/07/the-way-forward/\" class=\"storylink\">Stack Overflow reduces global workforce by approximately 15%</a><span class=\"sitebit comhead\"> (<a href=\"from?site=stackoverflow.blog\"><span class=\"sitestr\">stackoverflow.blog</span></a>)</span></td></tr><tr><td colspan=\"2\"></td><td class=\"subtext\">\n",
      "        <span class=\"score\" id=\"score_23111523\">150 points</span> by <a href=\"user?id=nsoonhui\" class=\"hnuser\">nsoonhui</a> <span class=\"age\"><a href=\"item?id=23111523\">4 hours ago</a></span> <span id=\"unv_23111523\"></span> | <a href=\"hide?id=23111523&amp;goto=news\">hide</a> | <a href=\"item?id=23111523\">118&nbsp;comments</a>              </td></tr>\n",
      "      <tr class=\"spacer\" style=\"height:5px\"></tr>\n",
      "                <tr class='athing' id='23109853'>\n",
      "      <td align=\"right\" valign=\"top\" class=\"title\"><span class=\"rank\">15.</span></td>      <td valign=\"top\" class=\"votelinks\"><center><a id='up_23109853' href='vote?id=23109853&amp;how=up&amp;goto=news'><div class='votearrow' title='upvote'></div></a></center></td><td class=\"title\"><a href=\"https://betterthansure.com/why-amazon-sellers-are-moving-their-stores-to-alternative-ecommerce-platforms-during-covid-19-74183e72b0e2\" class=\"storylink\">Amazon sellers are moving to alternative ecommerce platforms during Covid-19</a><span class=\"sitebit comhead\"> (<a href=\"from?site=betterthansure.com\"><span class=\"sitestr\">betterthansure.com</span></a>)</span></td></tr><tr><td colspan=\"2\"></td><td class=\"subtext\">\n",
      "        <span class=\"score\" id=\"score_23109853\">34 points</span> by <a href=\"user?id=mich7395\" class=\"hnuser\">mich7395</a> <span class=\"age\"><a href=\"item?id=23109853\">2 hours ago</a></span> <span id=\"unv_23109853\"></span> | <a href=\"hide?id=23109853&amp;goto=news\">hide</a> | <a href=\"item?id=23109853\">15&nbsp;comments</a>              </td></tr>\n",
      "      <tr class=\"spacer\" style=\"height:5px\"></tr>\n",
      "                <tr class='athing' id='23110401'>\n",
      "      <td align=\"right\" valign=\"top\" class=\"title\"><span class=\"rank\">16.</span></td>      <td valign=\"top\" class=\"votelinks\"><center><a id='up_23110401' href='vote?id=23110401&amp;how=up&amp;goto=news'><div class='votearrow' title='upvote'></div></a></center></td><td class=\"title\"><a href=\"https://techcrunch.com/2020/05/07/nso-group-fleming-contact-tracing/\" class=\"storylink\">A passwordless server run by NSO Group sparks contact-tracing privacy concerns</a><span class=\"sitebit comhead\"> (<a href=\"from?site=techcrunch.com\"><span class=\"sitestr\">techcrunch.com</span></a>)</span></td></tr><tr><td colspan=\"2\"></td><td class=\"subtext\">\n",
      "        <span class=\"score\" id=\"score_23110401\">40 points</span> by <a href=\"user?id=jbegley\" class=\"hnuser\">jbegley</a> <span class=\"age\"><a href=\"item?id=23110401\">7 hours ago</a></span> <span id=\"unv_23110401\"></span> | <a href=\"hide?id=23110401&amp;goto=news\">hide</a> | <a href=\"item?id=23110401\">11&nbsp;comments</a>              </td></tr>\n",
      "      <tr class=\"spacer\" style=\"height:5px\"></tr>\n",
      "                <tr class='athing' id='23106914'>\n",
      "      <td align=\"right\" valign=\"top\" class=\"title\"><span class=\"rank\">17.</span></td>      <td valign=\"top\" class=\"votelinks\"><center><a id='up_23106914' href='vote?id=23106914&amp;how=up&amp;goto=news'><div class='votearrow' title='upvote'></div></a></center></td><td class=\"title\"><a href=\"https://slack.engineering/happiness-is-a-freshly-organized-codebase-7ffa6590a70d\" class=\"storylink\">Happiness is a freshly organized codebase</a><span class=\"sitebit comhead\"> (<a href=\"from?site=slack.engineering\"><span class=\"sitestr\">slack.engineering</span></a>)</span></td></tr><tr><td colspan=\"2\"></td><td class=\"subtext\">\n",
      "        <span class=\"score\" id=\"score_23106914\">156 points</span> by <a href=\"user?id=felixrieseberg\" class=\"hnuser\">felixrieseberg</a> <span class=\"age\"><a href=\"item?id=23106914\">14 hours ago</a></span> <span id=\"unv_23106914\"></span> | <a href=\"hide?id=23106914&amp;goto=news\">hide</a> | <a href=\"item?id=23106914\">78&nbsp;comments</a>              </td></tr>\n",
      "      <tr class=\"spacer\" style=\"height:5px\"></tr>\n",
      "                <tr class='athing' id='23112339'>\n",
      "      <td align=\"right\" valign=\"top\" class=\"title\"><span class=\"rank\">18.</span></td>      <td valign=\"top\" class=\"votelinks\"><center><a id='up_23112339' href='vote?id=23112339&amp;how=up&amp;goto=news'><div class='votearrow' title='upvote'></div></a></center></td><td class=\"title\"><a href=\"https://www.ietf.org/rfc/rfc2119.txt\" class=\"storylink\" rel=\"nofollow\">Key Words for Use in RFCs to Indicate Requirement Levels</a><span class=\"sitebit comhead\"> (<a href=\"from?site=ietf.org\"><span class=\"sitestr\">ietf.org</span></a>)</span></td></tr><tr><td colspan=\"2\"></td><td class=\"subtext\">\n",
      "        <span class=\"score\" id=\"score_23112339\">3 points</span> by <a href=\"user?id=daviducolo\" class=\"hnuser\">daviducolo</a> <span class=\"age\"><a href=\"item?id=23112339\">1 hour ago</a></span> <span id=\"unv_23112339\"></span> | <a href=\"hide?id=23112339&amp;goto=news\">hide</a> | <a href=\"item?id=23112339\">discuss</a>              </td></tr>\n",
      "      <tr class=\"spacer\" style=\"height:5px\"></tr>\n",
      "                <tr class='athing' id='23112282'>\n",
      "      <td align=\"right\" valign=\"top\" class=\"title\"><span class=\"rank\">19.</span></td>      <td valign=\"top\" class=\"votelinks\"><center><a id='up_23112282' href='vote?id=23112282&amp;how=up&amp;goto=news'><div class='votearrow' title='upvote'></div></a></center></td><td class=\"title\"><a href=\"https://annals.org/aim/fullarticle/2765934/autopsy-findings-venous-thromboembolism-patients-covid-19-prospective-cohort-study\" class=\"storylink\">Autopsy Findings and Venous Thromboembolism in Patients with Covid-19</a><span class=\"sitebit comhead\"> (<a href=\"from?site=annals.org\"><span class=\"sitestr\">annals.org</span></a>)</span></td></tr><tr><td colspan=\"2\"></td><td class=\"subtext\">\n",
      "        <span class=\"score\" id=\"score_23112282\">13 points</span> by <a href=\"user?id=_Microft\" class=\"hnuser\">_Microft</a> <span class=\"age\"><a href=\"item?id=23112282\">1 hour ago</a></span> <span id=\"unv_23112282\"></span> | <a href=\"hide?id=23112282&amp;goto=news\">hide</a> | <a href=\"item?id=23112282\">5&nbsp;comments</a>              </td></tr>\n",
      "      <tr class=\"spacer\" style=\"height:5px\"></tr>\n",
      "                <tr class='athing' id='23108973'>\n",
      "      <td align=\"right\" valign=\"top\" class=\"title\"><span class=\"rank\">20.</span></td>      <td valign=\"top\" class=\"votelinks\"><center><a id='up_23108973' href='vote?id=23108973&amp;how=up&amp;goto=news'><div class='votearrow' title='upvote'></div></a></center></td><td class=\"title\"><a href=\"https://jlongster.com/case-study-complex-table-design\" class=\"storylink\">A Case Study of Complex Table Design</a><span class=\"sitebit comhead\"> (<a href=\"from?site=jlongster.com\"><span class=\"sitestr\">jlongster.com</span></a>)</span></td></tr><tr><td colspan=\"2\"></td><td class=\"subtext\">\n",
      "        <span class=\"score\" id=\"score_23108973\">81 points</span> by <a href=\"user?id=tosh\" class=\"hnuser\">tosh</a> <span class=\"age\"><a href=\"item?id=23108973\">10 hours ago</a></span> <span id=\"unv_23108973\"></span> | <a href=\"hide?id=23108973&amp;goto=news\">hide</a> | <a href=\"item?id=23108973\">18&nbsp;comments</a>              </td></tr>\n",
      "      <tr class=\"spacer\" style=\"height:5px\"></tr>\n",
      "                <tr class='athing' id='23106748'>\n",
      "      <td align=\"right\" valign=\"top\" class=\"title\"><span class=\"rank\">21.</span></td>      <td valign=\"top\" class=\"votelinks\"><center><a id='up_23106748' href='vote?id=23106748&amp;how=up&amp;goto=news'><div class='votearrow' title='upvote'></div></a></center></td><td class=\"title\"><a href=\"https://www.economist.com/finance-and-economics/2020/05/09/could-the-pandemic-give-americas-labour-movement-a-boost\" class=\"storylink\">Gig workers are organising in tech-savvy ways</a><span class=\"sitebit comhead\"> (<a href=\"from?site=economist.com\"><span class=\"sitestr\">economist.com</span></a>)</span></td></tr><tr><td colspan=\"2\"></td><td class=\"subtext\">\n",
      "        <span class=\"score\" id=\"score_23106748\">182 points</span> by <a href=\"user?id=edward\" class=\"hnuser\">edward</a> <span class=\"age\"><a href=\"item?id=23106748\">14 hours ago</a></span> <span id=\"unv_23106748\"></span> | <a href=\"hide?id=23106748&amp;goto=news\">hide</a> | <a href=\"item?id=23106748\">157&nbsp;comments</a>              </td></tr>\n",
      "      <tr class=\"spacer\" style=\"height:5px\"></tr>\n",
      "                <tr class='athing' id='23112008'>\n",
      "      <td align=\"right\" valign=\"top\" class=\"title\"><span class=\"rank\">22.</span></td>      <td valign=\"top\" class=\"votelinks\"><center><a id='up_23112008' href='vote?id=23112008&amp;how=up&amp;goto=news'><div class='votearrow' title='upvote'></div></a></center></td><td class=\"title\"><a href=\"https://physicstoday.scitation.org/doi/10.1063/PT.3.4471\" class=\"storylink\" rel=\"nofollow\">Teaching science in prisons brings rewards</a><span class=\"sitebit comhead\"> (<a href=\"from?site=scitation.org\"><span class=\"sitestr\">scitation.org</span></a>)</span></td></tr><tr><td colspan=\"2\"></td><td class=\"subtext\">\n",
      "        <span class=\"score\" id=\"score_23112008\">7 points</span> by <a href=\"user?id=happy-go-lucky\" class=\"hnuser\">happy-go-lucky</a> <span class=\"age\"><a href=\"item?id=23112008\">2 hours ago</a></span> <span id=\"unv_23112008\"></span> | <a href=\"hide?id=23112008&amp;goto=news\">hide</a> | <a href=\"item?id=23112008\">discuss</a>              </td></tr>\n",
      "      <tr class=\"spacer\" style=\"height:5px\"></tr>\n",
      "                <tr class='athing' id='23102194'>\n",
      "      <td align=\"right\" valign=\"top\" class=\"title\"><span class=\"rank\">23.</span></td>      <td valign=\"top\" class=\"votelinks\"><center><a id='up_23102194' href='vote?id=23102194&amp;how=up&amp;goto=news'><div class='votearrow' title='upvote'></div></a></center></td><td class=\"title\"><a href=\"item?id=23102194\" class=\"storylink\">Ask HN: Why No Smart Phone Esque IoT Device?</a></td></tr><tr><td colspan=\"2\"></td><td class=\"subtext\">\n",
      "        <span class=\"score\" id=\"score_23102194\">6 points</span> by <a href=\"user?id=raizinho\" class=\"hnuser\">raizinho</a> <span class=\"age\"><a href=\"item?id=23102194\">1 hour ago</a></span> <span id=\"unv_23102194\"></span> | <a href=\"hide?id=23102194&amp;goto=news\">hide</a> | <a href=\"item?id=23102194\">6&nbsp;comments</a>              </td></tr>\n",
      "      <tr class=\"spacer\" style=\"height:5px\"></tr>\n",
      "                <tr class='athing' id='23106155'>\n",
      "      <td align=\"right\" valign=\"top\" class=\"title\"><span class=\"rank\">24.</span></td>      <td valign=\"top\" class=\"votelinks\"><center><a id='up_23106155' href='vote?id=23106155&amp;how=up&amp;goto=news'><div class='votearrow' title='upvote'></div></a></center></td><td class=\"title\"><a href=\"https://github.com/zackshapiro/SwiftUIAirtableDemo\" class=\"storylink\">Show HN: I built an open-source SwiftUI app with an Airtable back end</a><span class=\"sitebit comhead\"> (<a href=\"from?site=github.com\"><span class=\"sitestr\">github.com</span></a>)</span></td></tr><tr><td colspan=\"2\"></td><td class=\"subtext\">\n",
      "        <span class=\"score\" id=\"score_23106155\">99 points</span> by <a href=\"user?id=kine\" class=\"hnuser\">kine</a> <span class=\"age\"><a href=\"item?id=23106155\">15 hours ago</a></span> <span id=\"unv_23106155\"></span> | <a href=\"hide?id=23106155&amp;goto=news\">hide</a> | <a href=\"item?id=23106155\">35&nbsp;comments</a>              </td></tr>\n",
      "      <tr class=\"spacer\" style=\"height:5px\"></tr>\n",
      "                <tr class='athing' id='23093240'>\n",
      "      <td align=\"right\" valign=\"top\" class=\"title\"><span class=\"rank\">25.</span></td>      <td valign=\"top\" class=\"votelinks\"><center><a id='up_23093240' href='vote?id=23093240&amp;how=up&amp;goto=news'><div class='votearrow' title='upvote'></div></a></center></td><td class=\"title\"><a href=\"https://en.wikipedia.org/wiki/Norsk_Data\" class=\"storylink\">Norsk Data</a><span class=\"sitebit comhead\"> (<a href=\"from?site=wikipedia.org\"><span class=\"sitestr\">wikipedia.org</span></a>)</span></td></tr><tr><td colspan=\"2\"></td><td class=\"subtext\">\n",
      "        <span class=\"score\" id=\"score_23093240\">268 points</span> by <a href=\"user?id=scottlocklin\" class=\"hnuser\">scottlocklin</a> <span class=\"age\"><a href=\"item?id=23093240\">22 hours ago</a></span> <span id=\"unv_23093240\"></span> | <a href=\"hide?id=23093240&amp;goto=news\">hide</a> | <a href=\"item?id=23093240\">81&nbsp;comments</a>              </td></tr>\n",
      "      <tr class=\"spacer\" style=\"height:5px\"></tr>\n",
      "                <tr class='athing' id='23109402'>\n",
      "      <td align=\"right\" valign=\"top\" class=\"title\"><span class=\"rank\">26.</span></td>      <td valign=\"top\" class=\"votelinks\"><center><a id='up_23109402' href='vote?id=23109402&amp;how=up&amp;goto=news'><div class='votearrow' title='upvote'></div></a></center></td><td class=\"title\"><a href=\"https://www.eff.org/deeplinks/2020/05/patent-office-adjusting-supreme-court-ruling-ignoring-it\" class=\"storylink\">The Patent Office is “adjusting” to a Supreme Court ruling by ignoring it</a><span class=\"sitebit comhead\"> (<a href=\"from?site=eff.org\"><span class=\"sitestr\">eff.org</span></a>)</span></td></tr><tr><td colspan=\"2\"></td><td class=\"subtext\">\n",
      "        <span class=\"score\" id=\"score_23109402\">188 points</span> by <a href=\"user?id=DiabloD3\" class=\"hnuser\">DiabloD3</a> <span class=\"age\"><a href=\"item?id=23109402\">10 hours ago</a></span> <span id=\"unv_23109402\"></span> | <a href=\"hide?id=23109402&amp;goto=news\">hide</a> | <a href=\"item?id=23109402\">43&nbsp;comments</a>              </td></tr>\n",
      "      <tr class=\"spacer\" style=\"height:5px\"></tr>\n",
      "                <tr class='athing' id='23104875'>\n",
      "      <td align=\"right\" valign=\"top\" class=\"title\"><span class=\"rank\">27.</span></td>      <td valign=\"top\" class=\"votelinks\"><center><a id='up_23104875' href='vote?id=23104875&amp;how=up&amp;goto=news'><div class='votearrow' title='upvote'></div></a></center></td><td class=\"title\"><a href=\"https://www.npr.org/sections/money/2012/07/13/156737801/the-cost-of-free-doughnuts-70-years-of-regret\" class=\"storylink\">The Cost of Free Doughnuts: 70 Years of Regret</a><span class=\"sitebit comhead\"> (<a href=\"from?site=npr.org\"><span class=\"sitestr\">npr.org</span></a>)</span></td></tr><tr><td colspan=\"2\"></td><td class=\"subtext\">\n",
      "        <span class=\"score\" id=\"score_23104875\">341 points</span> by <a href=\"user?id=leoh\" class=\"hnuser\">leoh</a> <span class=\"age\"><a href=\"item?id=23104875\">16 hours ago</a></span> <span id=\"unv_23104875\"></span> | <a href=\"hide?id=23104875&amp;goto=news\">hide</a> | <a href=\"item?id=23104875\">264&nbsp;comments</a>              </td></tr>\n",
      "      <tr class=\"spacer\" style=\"height:5px\"></tr>\n",
      "                <tr class='athing' id='23103582'>\n",
      "      <td align=\"right\" valign=\"top\" class=\"title\"><span class=\"rank\">28.</span></td>      <td valign=\"top\" class=\"votelinks\"><center><a id='up_23103582' href='vote?id=23103582&amp;how=up&amp;goto=news'><div class='votearrow' title='upvote'></div></a></center></td><td class=\"title\"><a href=\"https://iism.org/article/driving-engineers-to-an-arbitrary-date-is-a-value-destroying-mistake-49\" class=\"storylink\">Driving engineers to an arbitrary date is a value destroying mistake</a><span class=\"sitebit comhead\"> (<a href=\"from?site=iism.org\"><span class=\"sitestr\">iism.org</span></a>)</span></td></tr><tr><td colspan=\"2\"></td><td class=\"subtext\">\n",
      "        <span class=\"score\" id=\"score_23103582\">333 points</span> by <a href=\"user?id=signa11\" class=\"hnuser\">signa11</a> <span class=\"age\"><a href=\"item?id=23103582\">18 hours ago</a></span> <span id=\"unv_23103582\"></span> | <a href=\"hide?id=23103582&amp;goto=news\">hide</a> | <a href=\"item?id=23103582\">143&nbsp;comments</a>              </td></tr>\n",
      "      <tr class=\"spacer\" style=\"height:5px\"></tr>\n",
      "                <tr class='athing' id='23112196'>\n",
      "      <td align=\"right\" valign=\"top\" class=\"title\"><span class=\"rank\">29.</span></td>      <td valign=\"top\" class=\"votelinks\"><center><a id='up_23112196' href='vote?id=23112196&amp;how=up&amp;goto=news'><div class='votearrow' title='upvote'></div></a></center></td><td class=\"title\"><a href=\"https://www.youtube.com/watch?v=-jvLY5pUwic\" class=\"storylink\">Compiling Lua 5.2 from 2013 with Turbo C 1.0 from 1990 (2014) [video]</a><span class=\"sitebit comhead\"> (<a href=\"from?site=youtube.com\"><span class=\"sitestr\">youtube.com</span></a>)</span></td></tr><tr><td colspan=\"2\"></td><td class=\"subtext\">\n",
      "        <span class=\"score\" id=\"score_23112196\">11 points</span> by <a href=\"user?id=_Microft\" class=\"hnuser\">_Microft</a> <span class=\"age\"><a href=\"item?id=23112196\">1 hour ago</a></span> <span id=\"unv_23112196\"></span> | <a href=\"hide?id=23112196&amp;goto=news\">hide</a> | <a href=\"item?id=23112196\">1&nbsp;comment</a>              </td></tr>\n",
      "      <tr class=\"spacer\" style=\"height:5px\"></tr>\n",
      "                <tr class='athing' id='23103290'>\n",
      "      <td align=\"right\" valign=\"top\" class=\"title\"><span class=\"rank\">30.</span></td>      <td valign=\"top\" class=\"votelinks\"><center><a id='up_23103290' href='vote?id=23103290&amp;how=up&amp;goto=news'><div class='votearrow' title='upvote'></div></a></center></td><td class=\"title\"><a href=\"https://thehill.com/policy/defense/operations/496555-pentagon-official-fcc-decision-on-5g-threatens-gps-national\" class=\"storylink\">Pentagon official: FCC decision on 5G threatens GPS, national security</a><span class=\"sitebit comhead\"> (<a href=\"from?site=thehill.com\"><span class=\"sitestr\">thehill.com</span></a>)</span></td></tr><tr><td colspan=\"2\"></td><td class=\"subtext\">\n",
      "        <span class=\"score\" id=\"score_23103290\">240 points</span> by <a href=\"user?id=anigbrowl\" class=\"hnuser\">anigbrowl</a> <span class=\"age\"><a href=\"item?id=23103290\">18 hours ago</a></span> <span id=\"unv_23103290\"></span> | <a href=\"hide?id=23103290&amp;goto=news\">hide</a> | <a href=\"item?id=23103290\">203&nbsp;comments</a>              </td></tr>\n",
      "      <tr class=\"spacer\" style=\"height:5px\"></tr>\n",
      "            <tr class=\"morespace\" style=\"height:10px\"></tr><tr><td colspan=\"2\"></td><td class=\"title\"><a href=\"news?p=2\" class=\"morelink\" rel=\"next\">More</a></td></tr>\n",
      "  </table>\n",
      "</td></tr>\n",
      "<tr><td><img src=\"s.gif\" height=\"10\" width=\"0\"><table width=\"100%\" cellspacing=\"0\" cellpadding=\"1\"><tr><td bgcolor=\"#ff6600\"></td></tr></table><br><center><span class=\"yclinks\"><a href=\"newsguidelines.html\">Guidelines</a>\n",
      "        | <a href=\"newsfaq.html\">FAQ</a>\n",
      "        | <a href=\"mailto:hn@ycombinator.com\">Support</a>\n",
      "        | <a href=\"https://github.com/HackerNews/API\">API</a>\n",
      "        | <a href=\"security.html\">Security</a>\n",
      "        | <a href=\"lists\">Lists</a>\n",
      "        | <a href=\"bookmarklet.html\" rel=\"nofollow\">Bookmarklet</a>\n",
      "        | <a href=\"http://www.ycombinator.com/legal/\">Legal</a>\n",
      "        | <a href=\"http://www.ycombinator.com/apply/\">Apply to YC</a>\n",
      "        | <a href=\"mailto:hn@ycombinator.com\">Contact</a></span><br><br><form method=\"get\" action=\"//hn.algolia.com/\">Search:\n",
      "          <input type=\"text\" name=\"q\" value=\"\" size=\"17\" autocorrect=\"off\" spellcheck=\"false\" autocapitalize=\"off\" autocomplete=\"false\"></form>\n",
      "            </center></td></tr>\n",
      "      </table></center></body><script type='text/javascript' src='hn.js?aEQYbZXPFxMfgdP0ENCn'></script></html>\n",
      "\n"
     ]
    }
   ],
   "source": [
    "import requests\n",
    "\n",
    "# Fetch a web page\n",
    "r = requests.get(\"https://news.ycombinator.com\")\n",
    "print(r.text)"
   ]
  },
  {
   "cell_type": "code",
   "execution_count": 5,
   "metadata": {},
   "outputs": [
    {
     "name": "stdout",
     "output_type": "stream",
     "text": [
      "\n",
      "        \n",
      "          \n",
      "        Hacker News\n",
      "        \n",
      "                  Hacker News\n",
      "              new | past | comments | ask | show | jobs | submit            \n",
      "                              login\n",
      "                          \n",
      "              \n",
      "\n",
      "              \n",
      "      1.      We Chat, They Watch (citizenlab.ca)\n",
      "        838 points by hardmaru 8 hours ago  | hide | 321&nbsp;comments              \n",
      "      \n",
      "                \n",
      "      2.      The Original Cookie specification from 1997 was GDPR compliant (2019) (baekdal.com)\n",
      "        179 points by todsacerdoti 5 hours ago  | hide | 51&nbsp;comments              \n",
      "      \n",
      "                \n",
      "      3.      Show HN: Interface for all digital aspects of my life (beepb00p.xyz)\n",
      "        78 points by karlicoss 3 hours ago  | hide | 8&nbsp;comments              \n",
      "      \n",
      "                \n",
      "      4.      There is one, and only one strain of SARS-CoV-2 (virology.ws)\n",
      "        80 points by aberoham 1 hour ago  | hide | 22&nbsp;comments              \n",
      "      \n",
      "                \n",
      "      5.      Cross-signing and end-to-end encryption by default (matrix.org)\n",
      "        520 points by thanksforfish 13 hours ago  | hide | 143&nbsp;comments              \n",
      "      \n",
      "                \n",
      "      6.      PCSX2 PS2 Emulator: Progress report Q3 2019 to Q1 2020 (pcsx2.net)\n",
      "        44 points by boramalper 2 hours ago  | hide | 13&nbsp;comments              \n",
      "      \n",
      "                \n",
      "      7.      How to Serve over 100K Web Pages a Day on a Slower Home Internet Connection (cheapskatesguide.org)\n",
      "        72 points by sT370ma2 4 hours ago  | hide | 23&nbsp;comments              \n",
      "      \n",
      "                \n",
      "      8.      Making Emacs Popular Again (lwn.net)\n",
      "        411 points by todsacerdoti 13 hours ago  | hide | 549&nbsp;comments              \n",
      "      \n",
      "                \n",
      "      9.      Old box, dumb code, few thousand connections, no big deal (rachelbythebay.com)\n",
      "        338 points by ingve 12 hours ago  | hide | 193&nbsp;comments              \n",
      "      \n",
      "                \n",
      "      10.      NHS open-sources contract tracing iOS and Android apps (github.com)\n",
      "        272 points by orangepanda 13 hours ago  | hide | 101&nbsp;comments              \n",
      "      \n",
      "                \n",
      "      11.      0xF Rules (fabiensanglard.net)\n",
      "        25 points by ingve 2 hours ago  | hide | 8&nbsp;comments              \n",
      "      \n",
      "                \n",
      "      12.      Zoom Acquires Keybase (keybase.io)\n",
      "        1682 points by vikram7 20 hours ago  | hide | 654&nbsp;comments              \n",
      "      \n",
      "                \n",
      "      13.      Zork source code, 1977 (github.com)\n",
      "        157 points by braythwayt 11 hours ago  | hide | 54&nbsp;comments              \n",
      "      \n",
      "                \n",
      "      14.      Stack Overflow reduces global workforce by approximately 15% (stackoverflow.blog)\n",
      "        150 points by nsoonhui 4 hours ago  | hide | 118&nbsp;comments              \n",
      "      \n",
      "                \n",
      "      15.      Amazon sellers are moving to alternative ecommerce platforms during Covid-19 (betterthansure.com)\n",
      "        34 points by mich7395 2 hours ago  | hide | 15&nbsp;comments              \n",
      "      \n",
      "                \n",
      "      16.      A passwordless server run by NSO Group sparks contact-tracing privacy concerns (techcrunch.com)\n",
      "        40 points by jbegley 7 hours ago  | hide | 11&nbsp;comments              \n",
      "      \n",
      "                \n",
      "      17.      Happiness is a freshly organized codebase (slack.engineering)\n",
      "        156 points by felixrieseberg 14 hours ago  | hide | 78&nbsp;comments              \n",
      "      \n",
      "                \n",
      "      18.      Key Words for Use in RFCs to Indicate Requirement Levels (ietf.org)\n",
      "        3 points by daviducolo 1 hour ago  | hide | discuss              \n",
      "      \n",
      "                \n",
      "      19.      Autopsy Findings and Venous Thromboembolism in Patients with Covid-19 (annals.org)\n",
      "        13 points by _Microft 1 hour ago  | hide | 5&nbsp;comments              \n",
      "      \n",
      "                \n",
      "      20.      A Case Study of Complex Table Design (jlongster.com)\n",
      "        81 points by tosh 10 hours ago  | hide | 18&nbsp;comments              \n",
      "      \n",
      "                \n",
      "      21.      Gig workers are organising in tech-savvy ways (economist.com)\n",
      "        182 points by edward 14 hours ago  | hide | 157&nbsp;comments              \n",
      "      \n",
      "                \n",
      "      22.      Teaching science in prisons brings rewards (scitation.org)\n",
      "        7 points by happy-go-lucky 2 hours ago  | hide | discuss              \n",
      "      \n",
      "                \n",
      "      23.      Ask HN: Why No Smart Phone Esque IoT Device?\n",
      "        6 points by raizinho 1 hour ago  | hide | 6&nbsp;comments              \n",
      "      \n",
      "                \n",
      "      24.      Show HN: I built an open-source SwiftUI app with an Airtable back end (github.com)\n",
      "        99 points by kine 15 hours ago  | hide | 35&nbsp;comments              \n",
      "      \n",
      "                \n",
      "      25.      Norsk Data (wikipedia.org)\n",
      "        268 points by scottlocklin 22 hours ago  | hide | 81&nbsp;comments              \n",
      "      \n",
      "                \n",
      "      26.      The Patent Office is “adjusting” to a Supreme Court ruling by ignoring it (eff.org)\n",
      "        188 points by DiabloD3 10 hours ago  | hide | 43&nbsp;comments              \n",
      "      \n",
      "                \n",
      "      27.      The Cost of Free Doughnuts: 70 Years of Regret (npr.org)\n",
      "        341 points by leoh 16 hours ago  | hide | 264&nbsp;comments              \n",
      "      \n",
      "                \n",
      "      28.      Driving engineers to an arbitrary date is a value destroying mistake (iism.org)\n",
      "        333 points by signa11 18 hours ago  | hide | 143&nbsp;comments              \n",
      "      \n",
      "                \n",
      "      29.      Compiling Lua 5.2 from 2013 with Turbo C 1.0 from 1990 (2014) [video] (youtube.com)\n",
      "        11 points by _Microft 1 hour ago  | hide | 1&nbsp;comment              \n",
      "      \n",
      "                \n",
      "      30.      Pentagon official: FCC decision on 5G threatens GPS, national security (thehill.com)\n",
      "        240 points by anigbrowl 18 hours ago  | hide | 203&nbsp;comments              \n",
      "      \n",
      "            More\n",
      "  \n",
      "\n",
      "Guidelines\n",
      "        | FAQ\n",
      "        | Support\n",
      "        | API\n",
      "        | Security\n",
      "        | Lists\n",
      "        | Bookmarklet\n",
      "        | Legal\n",
      "        | Apply to YC\n",
      "        | ContactSearch:\n",
      "          \n",
      "            \n",
      "      \n",
      "\n"
     ]
    }
   ],
   "source": [
    "import re\n",
    "\n",
    "# Remove HTML tags using RegEx\n",
    "pattern = re.compile(r'<.*?>')  # tags look like <...>\n",
    "print(pattern.sub('', r.text))  # replace them with blank"
   ]
  },
  {
   "cell_type": "code",
   "execution_count": 6,
   "metadata": {},
   "outputs": [
    {
     "ename": "ModuleNotFoundError",
     "evalue": "No module named 'bs4'",
     "output_type": "error",
     "traceback": [
      "\u001b[0;31m---------------------------------------------------------------------------\u001b[0m",
      "\u001b[0;31mModuleNotFoundError\u001b[0m                       Traceback (most recent call last)",
      "\u001b[0;32m<ipython-input-6-ebd0fd953ad6>\u001b[0m in \u001b[0;36m<module>\u001b[0;34m\u001b[0m\n\u001b[0;32m----> 1\u001b[0;31m \u001b[0;32mfrom\u001b[0m \u001b[0mbs4\u001b[0m \u001b[0;32mimport\u001b[0m \u001b[0mBeautifulSoup\u001b[0m\u001b[0;34m\u001b[0m\u001b[0;34m\u001b[0m\u001b[0m\n\u001b[0m\u001b[1;32m      2\u001b[0m \u001b[0;34m\u001b[0m\u001b[0m\n\u001b[1;32m      3\u001b[0m \u001b[0;31m# Remove HTML tags using Beautiful Soup library\u001b[0m\u001b[0;34m\u001b[0m\u001b[0;34m\u001b[0m\u001b[0;34m\u001b[0m\u001b[0m\n\u001b[1;32m      4\u001b[0m \u001b[0msoup\u001b[0m \u001b[0;34m=\u001b[0m \u001b[0mBeautifulSoup\u001b[0m\u001b[0;34m(\u001b[0m\u001b[0mr\u001b[0m\u001b[0;34m.\u001b[0m\u001b[0mtext\u001b[0m\u001b[0;34m,\u001b[0m \u001b[0;34m\"html5lib\"\u001b[0m\u001b[0;34m)\u001b[0m\u001b[0;34m\u001b[0m\u001b[0;34m\u001b[0m\u001b[0m\n\u001b[1;32m      5\u001b[0m \u001b[0mprint\u001b[0m\u001b[0;34m(\u001b[0m\u001b[0msoup\u001b[0m\u001b[0;34m.\u001b[0m\u001b[0mget_text\u001b[0m\u001b[0;34m(\u001b[0m\u001b[0;34m)\u001b[0m\u001b[0;34m)\u001b[0m\u001b[0;34m\u001b[0m\u001b[0;34m\u001b[0m\u001b[0m\n",
      "\u001b[0;31mModuleNotFoundError\u001b[0m: No module named 'bs4'"
     ]
    }
   ],
   "source": [
    "from bs4 import BeautifulSoup\n",
    "\n",
    "# Remove HTML tags using Beautiful Soup library\n",
    "soup = BeautifulSoup(r.text, \"html5lib\")\n",
    "print(soup.get_text())"
   ]
  },
  {
   "cell_type": "code",
   "execution_count": null,
   "metadata": {
    "scrolled": true
   },
   "outputs": [],
   "source": [
    "# Find all articles\n",
    "summaries = soup.find_all(\"tr\", class_=\"athing\")\n",
    "summaries[0]"
   ]
  },
  {
   "cell_type": "code",
   "execution_count": 7,
   "metadata": {},
   "outputs": [
    {
     "ename": "NameError",
     "evalue": "name 'summaries' is not defined",
     "output_type": "error",
     "traceback": [
      "\u001b[0;31m---------------------------------------------------------------------------\u001b[0m",
      "\u001b[0;31mNameError\u001b[0m                                 Traceback (most recent call last)",
      "\u001b[0;32m<ipython-input-7-091ccb7bd111>\u001b[0m in \u001b[0;36m<module>\u001b[0;34m\u001b[0m\n\u001b[1;32m      1\u001b[0m \u001b[0;31m# Extract title\u001b[0m\u001b[0;34m\u001b[0m\u001b[0;34m\u001b[0m\u001b[0;34m\u001b[0m\u001b[0m\n\u001b[0;32m----> 2\u001b[0;31m \u001b[0msummaries\u001b[0m\u001b[0;34m[\u001b[0m\u001b[0;36m0\u001b[0m\u001b[0;34m]\u001b[0m\u001b[0;34m.\u001b[0m\u001b[0mfind\u001b[0m\u001b[0;34m(\u001b[0m\u001b[0;34m\"a\"\u001b[0m\u001b[0;34m,\u001b[0m \u001b[0mclass_\u001b[0m\u001b[0;34m=\u001b[0m\u001b[0;34m\"storylink\"\u001b[0m\u001b[0;34m)\u001b[0m\u001b[0;34m.\u001b[0m\u001b[0mget_text\u001b[0m\u001b[0;34m(\u001b[0m\u001b[0;34m)\u001b[0m\u001b[0;34m.\u001b[0m\u001b[0mstrip\u001b[0m\u001b[0;34m(\u001b[0m\u001b[0;34m)\u001b[0m\u001b[0;34m\u001b[0m\u001b[0;34m\u001b[0m\u001b[0m\n\u001b[0m",
      "\u001b[0;31mNameError\u001b[0m: name 'summaries' is not defined"
     ]
    }
   ],
   "source": [
    "# Extract title\n",
    "summaries[0].find(\"a\", class_=\"storylink\").get_text().strip()"
   ]
  },
  {
   "cell_type": "code",
   "execution_count": 10,
   "metadata": {},
   "outputs": [
    {
     "name": "stdout",
     "output_type": "stream",
     "text": [
      "30 Article summaries found. Sample:\n",
      "ICANN board withholds consent for a change of control of the .org registry\n"
     ]
    }
   ],
   "source": [
    "# Find all articles, extract titles\n",
    "articles = []\n",
    "summaries = soup.find_all(\"tr\", class_=\"athing\")\n",
    "for summary in summaries:\n",
    "    title = summary.find(\"a\", class_=\"storylink\").get_text().strip()\n",
    "    articles.append((title))\n",
    "\n",
    "print(len(articles), \"Article summaries found. Sample:\")\n",
    "print(articles[0])"
   ]
  },
  {
   "cell_type": "markdown",
   "metadata": {
    "collapsed": true
   },
   "source": [
    "## Normalization"
   ]
  },
  {
   "cell_type": "markdown",
   "metadata": {},
   "source": [
    "### Case Normalization"
   ]
  },
  {
   "cell_type": "code",
   "execution_count": 11,
   "metadata": {},
   "outputs": [
    {
     "name": "stdout",
     "output_type": "stream",
     "text": [
      "The first time you see The Second Renaissance it may look boring. Look at it at least twice and definitely watch part 2. It will change your view of the matrix. Are the human people the ones who started the war ? Is AI a bad thing ?\n"
     ]
    }
   ],
   "source": [
    "# Sample text\n",
    "text = \"The first time you see The Second Renaissance it may look boring. Look at it at least twice and definitely watch part 2. It will change your view of the matrix. Are the human people the ones who started the war ? Is AI a bad thing ?\"\n",
    "print(text)"
   ]
  },
  {
   "cell_type": "code",
   "execution_count": 12,
   "metadata": {},
   "outputs": [
    {
     "name": "stdout",
     "output_type": "stream",
     "text": [
      "the first time you see the second renaissance it may look boring. look at it at least twice and definitely watch part 2. it will change your view of the matrix. are the human people the ones who started the war ? is ai a bad thing ?\n"
     ]
    }
   ],
   "source": [
    "# Convert to lowercase\n",
    "text = text.lower() \n",
    "print(text)"
   ]
  },
  {
   "cell_type": "markdown",
   "metadata": {},
   "source": [
    "### Punctuation Removal"
   ]
  },
  {
   "cell_type": "code",
   "execution_count": 13,
   "metadata": {},
   "outputs": [
    {
     "name": "stdout",
     "output_type": "stream",
     "text": [
      "the first time you see the second renaissance it may look boring  look at it at least twice and definitely watch part 2  it will change your view of the matrix  are the human people the ones who started the war   is ai a bad thing  \n"
     ]
    }
   ],
   "source": [
    "import re\n",
    "\n",
    "# Remove punctuation characters\n",
    "text = re.sub(r\"[^a-zA-Z0-9]\", \" \", text) \n",
    "print(text)"
   ]
  },
  {
   "cell_type": "markdown",
   "metadata": {},
   "source": [
    "## Tokenization"
   ]
  },
  {
   "cell_type": "code",
   "execution_count": 14,
   "metadata": {},
   "outputs": [
    {
     "name": "stdout",
     "output_type": "stream",
     "text": [
      "['the', 'first', 'time', 'you', 'see', 'the', 'second', 'renaissance', 'it', 'may', 'look', 'boring', 'look', 'at', 'it', 'at', 'least', 'twice', 'and', 'definitely', 'watch', 'part', '2', 'it', 'will', 'change', 'your', 'view', 'of', 'the', 'matrix', 'are', 'the', 'human', 'people', 'the', 'ones', 'who', 'started', 'the', 'war', 'is', 'ai', 'a', 'bad', 'thing']\n"
     ]
    }
   ],
   "source": [
    "# Split text into tokens (words)\n",
    "words = text.split()\n",
    "print(words)"
   ]
  },
  {
   "cell_type": "markdown",
   "metadata": {},
   "source": [
    "### NLTK: Natural Language ToolKit"
   ]
  },
  {
   "cell_type": "code",
   "execution_count": 15,
   "metadata": {},
   "outputs": [],
   "source": [
    "import os\n",
    "import nltk\n",
    "nltk.data.path.append(os.path.join(os.getcwd(), \"nltk_data\"))"
   ]
  },
  {
   "cell_type": "code",
   "execution_count": 16,
   "metadata": {},
   "outputs": [
    {
     "name": "stdout",
     "output_type": "stream",
     "text": [
      "Dr. Smith graduated from the University of Washington. He later started an analytics firm called Lux, which catered to enterprise customers.\n"
     ]
    }
   ],
   "source": [
    "# Another sample text\n",
    "text = \"Dr. Smith graduated from the University of Washington. He later started an analytics firm called Lux, which catered to enterprise customers.\"\n",
    "print(text)"
   ]
  },
  {
   "cell_type": "code",
   "execution_count": 17,
   "metadata": {},
   "outputs": [
    {
     "name": "stdout",
     "output_type": "stream",
     "text": [
      "['Dr.', 'Smith', 'graduated', 'from', 'the', 'University', 'of', 'Washington', '.', 'He', 'later', 'started', 'an', 'analytics', 'firm', 'called', 'Lux', ',', 'which', 'catered', 'to', 'enterprise', 'customers', '.']\n"
     ]
    }
   ],
   "source": [
    "from nltk.tokenize import word_tokenize\n",
    "\n",
    "# Split text into words using NLTK\n",
    "words = word_tokenize(text)\n",
    "print(words)"
   ]
  },
  {
   "cell_type": "code",
   "execution_count": 18,
   "metadata": {},
   "outputs": [
    {
     "name": "stdout",
     "output_type": "stream",
     "text": [
      "['Dr. Smith graduated from the University of Washington.', 'He later started an analytics firm called Lux, which catered to enterprise customers.']\n"
     ]
    }
   ],
   "source": [
    "from nltk.tokenize import sent_tokenize\n",
    "\n",
    "# Split text into sentences\n",
    "sentences = sent_tokenize(text)\n",
    "print(sentences)"
   ]
  },
  {
   "cell_type": "code",
   "execution_count": 19,
   "metadata": {},
   "outputs": [
    {
     "name": "stdout",
     "output_type": "stream",
     "text": [
      "['i', 'me', 'my', 'myself', 'we', 'our', 'ours', 'ourselves', 'you', \"you're\", \"you've\", \"you'll\", \"you'd\", 'your', 'yours', 'yourself', 'yourselves', 'he', 'him', 'his', 'himself', 'she', \"she's\", 'her', 'hers', 'herself', 'it', \"it's\", 'its', 'itself', 'they', 'them', 'their', 'theirs', 'themselves', 'what', 'which', 'who', 'whom', 'this', 'that', \"that'll\", 'these', 'those', 'am', 'is', 'are', 'was', 'were', 'be', 'been', 'being', 'have', 'has', 'had', 'having', 'do', 'does', 'did', 'doing', 'a', 'an', 'the', 'and', 'but', 'if', 'or', 'because', 'as', 'until', 'while', 'of', 'at', 'by', 'for', 'with', 'about', 'against', 'between', 'into', 'through', 'during', 'before', 'after', 'above', 'below', 'to', 'from', 'up', 'down', 'in', 'out', 'on', 'off', 'over', 'under', 'again', 'further', 'then', 'once', 'here', 'there', 'when', 'where', 'why', 'how', 'all', 'any', 'both', 'each', 'few', 'more', 'most', 'other', 'some', 'such', 'no', 'nor', 'not', 'only', 'own', 'same', 'so', 'than', 'too', 'very', 's', 't', 'can', 'will', 'just', 'don', \"don't\", 'should', \"should've\", 'now', 'd', 'll', 'm', 'o', 're', 've', 'y', 'ain', 'aren', \"aren't\", 'couldn', \"couldn't\", 'didn', \"didn't\", 'doesn', \"doesn't\", 'hadn', \"hadn't\", 'hasn', \"hasn't\", 'haven', \"haven't\", 'isn', \"isn't\", 'ma', 'mightn', \"mightn't\", 'mustn', \"mustn't\", 'needn', \"needn't\", 'shan', \"shan't\", 'shouldn', \"shouldn't\", 'wasn', \"wasn't\", 'weren', \"weren't\", 'won', \"won't\", 'wouldn', \"wouldn't\"]\n"
     ]
    }
   ],
   "source": [
    "# List stop words\n",
    "from nltk.corpus import stopwords\n",
    "print(stopwords.words(\"english\"))"
   ]
  },
  {
   "cell_type": "code",
   "execution_count": 20,
   "metadata": {},
   "outputs": [
    {
     "name": "stdout",
     "output_type": "stream",
     "text": [
      "['the', 'first', 'time', 'you', 'see', 'the', 'second', 'renaissance', 'it', 'may', 'look', 'boring', 'look', 'at', 'it', 'at', 'least', 'twice', 'and', 'definitely', 'watch', 'part', '2', 'it', 'will', 'change', 'your', 'view', 'of', 'the', 'matrix', 'are', 'the', 'human', 'people', 'the', 'ones', 'who', 'started', 'the', 'war', 'is', 'ai', 'a', 'bad', 'thing']\n"
     ]
    }
   ],
   "source": [
    "# Reset text\n",
    "text = \"The first time you see The Second Renaissance it may look boring. Look at it at least twice and definitely watch part 2. It will change your view of the matrix. Are the human people the ones who started the war ? Is AI a bad thing ?\"\n",
    "\n",
    "# Normalize it\n",
    "text = re.sub(r\"[^a-zA-Z0-9]\", \" \", text.lower())\n",
    "\n",
    "# Tokenize it\n",
    "words = text.split()\n",
    "print(words)"
   ]
  },
  {
   "cell_type": "code",
   "execution_count": 21,
   "metadata": {},
   "outputs": [
    {
     "name": "stdout",
     "output_type": "stream",
     "text": [
      "['first', 'time', 'see', 'second', 'renaissance', 'may', 'look', 'boring', 'look', 'least', 'twice', 'definitely', 'watch', 'part', '2', 'change', 'view', 'matrix', 'human', 'people', 'ones', 'started', 'war', 'ai', 'bad', 'thing']\n"
     ]
    }
   ],
   "source": [
    "# Remove stop words\n",
    "words = [w for w in words if w not in stopwords.words(\"english\")]\n",
    "print(words)"
   ]
  },
  {
   "cell_type": "markdown",
   "metadata": {},
   "source": [
    "### Sentence Parsing"
   ]
  },
  {
   "cell_type": "code",
   "execution_count": 22,
   "metadata": {},
   "outputs": [
    {
     "name": "stdout",
     "output_type": "stream",
     "text": [
      "(S\n",
      "  (NP I)\n",
      "  (VP\n",
      "    (VP (V shot) (NP (Det an) (N elephant)))\n",
      "    (PP (P in) (NP (Det my) (N pajamas)))))\n",
      "(S\n",
      "  (NP I)\n",
      "  (VP\n",
      "    (V shot)\n",
      "    (NP (Det an) (N elephant) (PP (P in) (NP (Det my) (N pajamas))))))\n"
     ]
    }
   ],
   "source": [
    "import nltk\n",
    "\n",
    "# Define a custom grammar\n",
    "my_grammar = nltk.CFG.fromstring(\"\"\"\n",
    "S -> NP VP\n",
    "PP -> P NP\n",
    "NP -> Det N | Det N PP | 'I'\n",
    "VP -> V NP | VP PP\n",
    "Det -> 'an' | 'my'\n",
    "N -> 'elephant' | 'pajamas'\n",
    "V -> 'shot'\n",
    "P -> 'in'\n",
    "\"\"\")\n",
    "parser = nltk.ChartParser(my_grammar)\n",
    "\n",
    "# Parse a sentence\n",
    "sentence = word_tokenize(\"I shot an elephant in my pajamas\")\n",
    "for tree in parser.parse(sentence):\n",
    "    print(tree)"
   ]
  },
  {
   "cell_type": "markdown",
   "metadata": {},
   "source": [
    "## Stemming & Lemmatization\n",
    "\n",
    "### Stemming"
   ]
  },
  {
   "cell_type": "code",
   "execution_count": 23,
   "metadata": {},
   "outputs": [
    {
     "name": "stdout",
     "output_type": "stream",
     "text": [
      "['first', 'time', 'see', 'second', 'renaiss', 'may', 'look', 'bore', 'look', 'least', 'twice', 'definit', 'watch', 'part', '2', 'chang', 'view', 'matrix', 'human', 'peopl', 'one', 'start', 'war', 'ai', 'bad', 'thing']\n"
     ]
    }
   ],
   "source": [
    "from nltk.stem.porter import PorterStemmer\n",
    "\n",
    "# Reduce words to their stems\n",
    "stemmed = [PorterStemmer().stem(w) for w in words]\n",
    "print(stemmed)"
   ]
  },
  {
   "cell_type": "markdown",
   "metadata": {},
   "source": [
    "### Lemmatization"
   ]
  },
  {
   "cell_type": "code",
   "execution_count": 24,
   "metadata": {},
   "outputs": [
    {
     "name": "stdout",
     "output_type": "stream",
     "text": [
      "['first', 'time', 'see', 'second', 'renaissance', 'may', 'look', 'boring', 'look', 'least', 'twice', 'definitely', 'watch', 'part', '2', 'change', 'view', 'matrix', 'human', 'people', 'one', 'started', 'war', 'ai', 'bad', 'thing']\n"
     ]
    }
   ],
   "source": [
    "from nltk.stem.wordnet import WordNetLemmatizer\n",
    "\n",
    "# Reduce words to their root form\n",
    "lemmed = [WordNetLemmatizer().lemmatize(w) for w in words]\n",
    "print(lemmed)"
   ]
  },
  {
   "cell_type": "code",
   "execution_count": 25,
   "metadata": {},
   "outputs": [
    {
     "name": "stdout",
     "output_type": "stream",
     "text": [
      "['first', 'time', 'see', 'second', 'renaissance', 'may', 'look', 'bore', 'look', 'least', 'twice', 'definitely', 'watch', 'part', '2', 'change', 'view', 'matrix', 'human', 'people', 'one', 'start', 'war', 'ai', 'bad', 'thing']\n"
     ]
    }
   ],
   "source": [
    "# Lemmatize verbs by specifying pos\n",
    "lemmed = [WordNetLemmatizer().lemmatize(w, pos='v') for w in lemmed]\n",
    "print(lemmed)"
   ]
  },
  {
   "cell_type": "code",
   "execution_count": null,
   "metadata": {},
   "outputs": [],
   "source": []
  }
 ],
 "metadata": {
  "kernelspec": {
   "display_name": "Python 3",
   "language": "python",
   "name": "python3"
  },
  "language_info": {
   "codemirror_mode": {
    "name": "ipython",
    "version": 3
   },
   "file_extension": ".py",
   "mimetype": "text/x-python",
   "name": "python",
   "nbconvert_exporter": "python",
   "pygments_lexer": "ipython3",
   "version": "3.7.4"
  }
 },
 "nbformat": 4,
 "nbformat_minor": 2
}
